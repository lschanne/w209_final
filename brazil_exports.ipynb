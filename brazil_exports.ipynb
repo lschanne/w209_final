{
  "nbformat": 4,
  "nbformat_minor": 0,
  "metadata": {
    "colab": {
      "name": "brazil_exports.ipynb",
      "provenance": [],
      "collapsed_sections": [],
      "authorship_tag": "ABX9TyMHQ8OPpDBDrK395MKfvJOw",
      "include_colab_link": true
    },
    "kernelspec": {
      "name": "python3",
      "display_name": "Python 3"
    },
    "language_info": {
      "name": "python"
    }
  },
  "cells": [
    {
      "cell_type": "markdown",
      "metadata": {
        "id": "view-in-github",
        "colab_type": "text"
      },
      "source": [
        "<a href=\"https://colab.research.google.com/github/lschanne/w209_final/blob/master/brazil_exports.ipynb\" target=\"_parent\"><img src=\"https://colab.research.google.com/assets/colab-badge.svg\" alt=\"Open In Colab\"/></a>"
      ]
    },
    {
      "cell_type": "code",
      "metadata": {
        "id": "kLvho8Qu8X2L"
      },
      "source": [
        "import altair as alt\n",
        "import numpy as np\n",
        "import pandas as pd"
      ],
      "execution_count": 1,
      "outputs": []
    },
    {
      "cell_type": "code",
      "metadata": {
        "colab": {
          "resources": {
            "http://localhost:8080/nbextensions/google.colab/files.js": {
              "data": "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",
              "ok": true,
              "headers": [
                [
                  "content-type",
                  "application/javascript"
                ]
              ],
              "status": 200,
              "status_text": ""
            }
          },
          "base_uri": "https://localhost:8080/",
          "height": 109
        },
        "id": "bfSCE8cB8noc",
        "outputId": "9002dd9a-6481-442e-b13c-b47e590a258b"
      },
      "source": [
        "from google.colab import files\n",
        "files.upload()"
      ],
      "execution_count": 2,
      "outputs": [
        {
          "output_type": "display_data",
          "data": {
            "text/html": [
              "\n",
              "     <input type=\"file\" id=\"files-ac90146a-5b5d-457a-ae62-73ddb5c2514d\" name=\"files[]\" multiple disabled\n",
              "        style=\"border:none\" />\n",
              "     <output id=\"result-ac90146a-5b5d-457a-ae62-73ddb5c2514d\">\n",
              "      Upload widget is only available when the cell has been executed in the\n",
              "      current browser session. Please rerun this cell to enable.\n",
              "      </output>\n",
              "      <script src=\"/nbextensions/google.colab/files.js\"></script> "
            ],
            "text/plain": [
              "<IPython.core.display.HTML object>"
            ]
          },
          "metadata": {
            "tags": []
          }
        },
        {
          "output_type": "stream",
          "text": [
            "Saving brazil_corr_data.csv to brazil_corr_data.csv\n"
          ],
          "name": "stdout"
        },
        {
          "output_type": "execute_result",
          "data": {
            "text/plain": [
              "{'brazil_corr_data.csv': b',item,n,corr\\n0,Alcoholic Beverages,16,-0.7179262145836542\\n1,Alfalfa meal and pellets,13,-0.3912181392289061\\n2,Almonds shelled,15,0.694671556917694\\n3,\"Almonds, with shell\",15,-0.022756354980184135\\n4,Animal Fats and Oils (excl. Butter),16,0.8931981753698409\\n5,\"Anise, badian, fennel, coriander\",16,0.3897220491767559\\n6,Apples,16,0.6996797711927283\\n7,Apricots,12,-0.24990354132725695\\n8,\"Apricots, dry\",15,-0.07167105147961314\\n9,Artichokes,12,-0.0673337234212784\\n10,Asparagus,12,-0.06733372342127845\\n11,Avocados,16,-0.5359565970470114\\n12,Bacon and ham,16,0.8025444452387718\\n13,Bananas,16,0.7162324287759084\\n14,Barley,14,-0.1488120392376191\\n15,\"Beans, dry\",16,-0.45471483117140415\\n16,\"Beans, green\",13,0.832823387372471\\n17,Beer of barley,16,-0.6518092877675908\\n18,Beeswax,16,0.7651650550877263\\n19,Beet pulp,16,-0.12353794635380995\\n20,Beverages,16,-0.5887582507378688\\n21,\"Beverages, distilled alcoholic\",16,-0.5970803725917342\\n22,\"Beverages, non alcoholic\",16,0.8029434292833815\\n23,Bovine Meat,16,-0.0344410133765918\\n24,\"Bran, maize\",16,0.30758719454772077\\n25,\"Bran, wheat\",16,0.16367510719894943\\n26,\"Brazil nuts, shelled\",16,0.47011044044743067\\n27,Bread,16,-0.3714250119463995\\n28,Buckwheat,16,-0.5504513603650045\\n29,\"Butter, cow milk\",16,-0.11339214233995698\\n30,\"Buttermilk, curdled, acidified milk\",16,0.5817521282962576\\n31,Cabbages and other brassicas,16,-0.028059978316441688\\n32,\"Cake, copra\",10,0.48335290872927783\\n33,\"Cake, cottonseed\",16,0.676716388852637\\n34,\"Cake, groundnuts\",16,-0.22816402725018095\\n35,\"Cake, maize\",11,0.13410399912435753\\n36,\"Cake, palm kernel\",12,-0.15728546969128931\\n37,\"Cake, soybeans\",16,-0.06155999414824725\\n38,\"Cake, sunflower\",13,-0.2630863427194605\\n39,Canary seed,16,-0.15774985721565782\\n40,Carrots and turnips,16,-0.21128899782402416\\n41,\"Cashew nuts, shelled\",16,0.5865064323051052\\n42,\"Cashew nuts, with shell\",15,-0.1750064231767844\\n43,Cassava dried,16,0.6496505278244051\\n44,Cauliflowers and broccoli,16,-0.03664417070706147\\n45,Cereal preparations,16,-0.6090500931699427\\n46,Cereal preparations nes,16,-0.4964661095872877\\n47,Cereals,16,-0.5572041626238433\\n48,\"Cereals, breakfast\",16,0.6922116821995891\\n49,\"Cheese, processed\",16,0.35385538020938634\\n50,\"Cheese, whole cow milk\",16,0.6343487782215906\\n51,Cherries,12,-0.1066926387772473\\n52,Chestnut,15,-0.13576228515538094\\n53,Chick peas,16,-0.14465953002910434\\n54,\"Chillies and peppers, dry\",16,0.7254526226951368\\n55,\"Chillies and peppers, green\",16,0.41489282662620935\\n56,Chocolate products nes,16,0.9070237601462292\\n57,Cider etc,16,-0.6622021204752983\\n58,Cigarettes,16,0.6083171352934398\\n59,\"Cigars, cheroots\",16,-0.15422626859139146\\n60,Cinnamon (cannella),16,0.8151242882204591\\n61,Cloves,16,0.31044175744689656\\n62,\"Cocoa, beans\",16,-0.051871774690350335\\n63,\"Cocoa, butter\",16,0.6869339407910482\\n64,\"Cocoa, paste\",16,0.2917268878825825\\n65,\"Cocoa, powder & cake\",16,0.7599209610514093\\n66,Coconuts,16,-0.055576225669588857\\n67,\"Coconuts, desiccated\",16,-0.19292305316196764\\n68,\"Cocoons, unreelable & waste\",16,0.9415420028097105\\n69,\"Coffee, extracts\",16,-0.14246252523924574\\n70,\"Coffee, green\",16,-0.5659828509432356\\n71,\"Coffee, roasted\",16,0.2996268812578372\\n72,\"Coffee, substitutes containing coffee\",16,0.5089340377474424\\n73,Coir,13,0.8730765847036877\\n74,Copra,10,-0.2816001686990203\\n75,Cotton lint,16,-0.48327038214613327\\n76,Cotton linter,16,-0.02917582660889378\\n77,Cotton waste,16,0.04315466315185692\\n78,\"Cotton, carded, combed\",16,0.4888898447919688\\n79,Cottonseed,16,0.19845833076398753\\n80,Cream fresh,16,-0.8035060960724597\\n81,Crude Materials nes,16,0.05186917070298041\\n82,Cucumbers and gherkins,16,-0.041814696077365536\\n83,Dairy Products,16,0.36414972249244504\\n84,Dates,16,0.00720848119024163\\n85,\"Dregs from brewing, distillation\",13,-0.19669719583350542\\n86,Eggplants (aubergines),14,-0.13516257872878024\\n87,Eggs,16,-0.41802866157798774\\n88,\"Eggs, dried\",16,0.7241033402207947\\n89,\"Eggs, hen, in shell\",16,-0.7087710702313894\\n90,\"Eggs, liquid\",16,0.7310034647768061\\n91,\"Eggs, other bird, in shell\",16,-0.019919680403317326\\n92,\"Fat nes, prepared\",16,-0.00996108128228795\\n93,\"Fat, pigs\",16,0.8171609174317134\\n94,Fatty acids,16,-0.11838026334796316\\n95,Fatty substance residues,16,0.21211287223483166\\n96,\"Feed and meal, gluten\",16,-0.03029676321491619\\n97,\"Feed, pulp of fruit\",16,0.7002764375761863\\n98,Fibre crops nes,16,-0.8035816812588166\\n99,Figs,16,-0.5219002076724673\\n100,Figs dried,15,-0.2861517266006597\\n101,Flax fibre and tow,12,-0.21517302307012065\\n102,Flax fibre raw,11,0.7809580750676026\\n103,Flax tow waste,16,0.2863707514344002\\n104,\"Flour, cassava\",16,-0.20486610866579372\\n105,\"Flour, cereals\",12,0.15889805683840555\\n106,\"Flour, maize\",16,-0.6845173834953848\\n107,\"Flour, mustard\",16,-0.6735105444615239\\n108,\"Flour, potatoes\",16,-0.07597883402649182\\n109,\"Flour, pulses\",15,0.144205734670181\\n110,\"Flour, rice\",16,-0.03184958212960637\\n111,\"Flour, wheat\",16,-0.1358970660426047\\n112,Fodder and Feeding Stuff,16,0.051541239670570366\\n113,Food prep nes,16,-0.12830626802206183\\n114,\"Food preparations, flour, malt extract\",16,0.15050126435848774\\n115,Food wastes,16,-0.5982104515193661\\n116,Forage products,15,-0.20043446698826595\\n117,\"Fructose and syrup, other\",15,0.2846492215565356\\n118,Fruit,16,-0.36062904414811064\\n119,\"Fruit, cooked, homogenized preparations\",16,0.09523415975575625\\n120,\"Fruit, dried nes\",16,-0.22932303464182388\\n121,\"Fruit, fresh nes\",16,-0.3638396037795122\\n122,\"Fruit, prepared nes\",16,0.2526356151724506\\n123,Garlic,16,0.46612091242784326\\n124,\"Germ, maize\",16,0.26383210856057093\\n125,Ginger,16,0.03516437262010366\\n126,Glucose and dextrose,16,0.15256725564726584\\n127,Grapefruit (inc. pomelos),12,-0.10744437557088984\\n128,Grapes,16,0.012751924671120424\\n129,Grease incl. lanolin wool,16,0.45127479218440436\\n130,\"Groundnuts, prepared\",16,-0.3650181756986306\\n131,\"Groundnuts, shelled\",16,-0.30925274510757594\\n132,\"Hazelnuts, shelled\",13,0.4407374736796738\\n133,\"Hazelnuts, with shell\",12,0.782080490086\\n134,Hides and skins,16,0.04508150060528725\\n135,Hides nes,8,-0.18635104274793135\\n136,\"Hides, cattle, wet salted\",16,-0.44998885166429614\\n137,\"Honey, natural\",16,-0.29710211533378184\\n138,Hops,16,0.09612098909176364\\n139,Ice cream and edible ice,16,0.3212621687383726\\n140,Infant food,16,0.7814137844002016\\n141,\"Juice, apple, concentrated\",16,0.25176759446220665\\n142,\"Juice, apple, single strength\",16,0.19492715699923366\\n143,\"Juice, citrus, concentrated\",16,-0.40633683261990466\\n144,\"Juice, citrus, single strength\",10,-0.47224978839696824\\n145,\"Juice, fruit nes\",16,-0.5810659556498236\\n146,\"Juice, grape\",16,0.7164809522593567\\n147,\"Juice, grapefruit, concentrated\",11,0.13279042195671031\\n148,\"Juice, lemon, concentrated\",10,0.7438312537163535\\n149,\"Juice, orange, concentrated\",16,0.4146553102745822\\n150,\"Juice, orange, single strength\",16,-0.6675874253570955\\n151,\"Juice, pineapple\",16,0.9105501854463361\\n152,\"Juice, pineapple, concentrated\",16,0.5838307926992325\\n153,\"Juice, tomato\",12,-0.008673171868060199\\n154,Jute,15,-0.2906747908999118\\n155,Kiwi fruit,13,0.6915528972787012\\n156,Lactose,16,0.25208445001266183\\n157,Lard,16,-0.5464887002075705\\n158,\"Leeks, other alliaceous vegetables\",13,-0.048821590242042454\\n159,Lemons and limes,16,-0.7081980265744495\\n160,Lentils,16,-0.07846561799617421\\n161,Lettuce and chicory,15,-0.10183361540762953\\n162,Linseed,16,0.3606661362033343\\n163,Macaroni,16,-0.35268721894739735\\n164,Maize,16,-0.5364229872293192\\n165,Malt,16,0.26163058504272463\\n166,\"Mangoes, mangosteens, guavas\",16,-0.31965408431993075\\n167,Maple sugar and syrups,12,-0.05635553794239329\\n168,\"Margarine, short\",16,0.1194992870338962\\n169,Mat\\xef\\xbf\\xbd,16,-0.7622706142154662\\n170,\"Meal, meat\",16,-0.3314883738801584\\n171,Meat nes,15,0.15764733535620726\\n172,\"Meat, beef, preparations\",16,0.6418412209013211\\n173,\"Meat, cattle\",16,-0.5063662561163267\\n174,\"Meat, cattle, boneless (beef & veal)\",16,-0.08703707380856776\\n175,\"Meat, chicken\",16,-0.8073884216105441\\n176,\"Meat, chicken, canned\",16,-0.5954681500026114\\n177,\"Meat, dried nes\",16,-0.7944002489816085\\n178,\"Meat, duck\",16,-0.6675148228379015\\n179,\"Meat, goat\",12,0.15869780333863787\\n180,\"Meat, horse\",16,0.9023073239219255\\n181,\"Meat, pig\",16,0.7378125225083434\\n182,\"Meat, pig sausages\",16,-0.46935208208418977\\n183,\"Meat, pig, preparations\",16,-0.6689946573657318\\n184,\"Meat, pork\",16,-0.3579212993846344\\n185,\"Meat, sheep\",14,-0.06857966173619391\\n186,\"Meat, turkey\",16,0.6333945913774296\\n187,\"Melons, other (inc.cantaloupes)\",16,-0.4576518395358613\\n188,\"Milk, products of natural constituents nes\",16,-0.25269404895403047\\n189,\"Milk, skimmed cow\",16,-0.03994754344740728\\n190,\"Milk, skimmed dried\",16,0.602945761903879\\n191,\"Milk, whole condensed\",16,0.4048822597220678\\n192,\"Milk, whole dried\",16,0.25348435316625073\\n193,\"Milk, whole evaporated\",13,0.11031900320634415\\n194,\"Milk, whole fresh cow\",16,0.07180515991128274\\n195,Millet,12,-0.07495542152217134\\n196,Mixes and doughs,16,-0.1256836033752318\\n197,Molasses,16,0.6256882194409774\\n198,Mushrooms and truffles,16,-0.08366135106259935\\n199,\"Mushrooms, canned\",16,0.6232943024593983\\n200,Mustard seed,14,0.3746700500354109\\n201,Natural Rubber,16,-0.4802254788783271\\n202,Non-alcoholic Beverages,16,0.6849967484774723\\n203,\"Nutmeg, mace and cardamoms\",16,0.5826714243690573\\n204,Nuts,16,-0.1758156213738585\\n205,Nuts nes,16,-0.314359924847126\\n206,\"Nuts, prepared (exc. groundnuts)\",16,0.4731132533042581\\n207,Oats,16,-0.45086421495648354\\n208,Oats rolled,16,-0.21425052663991548\\n209,\"Offals, edible, cattle\",16,-0.647954387837852\\n210,\"Offals, liver geese\",10,0.9185989098325451\\n211,\"Offals, pigs, edible\",16,-0.7813279684819419\\n212,\"Oil, boiled etc\",16,-0.15301587307733527\\n213,\"Oil, castor beans\",16,0.19677316498362352\\n214,\"Oil, coconut (copra)\",16,-0.2848548224314819\\n215,\"Oil, cottonseed\",16,0.8724430182119746\\n216,\"Oil, essential nes\",16,0.5641528281612544\\n217,\"Oil, groundnut\",16,-0.6233412828468233\\n218,\"Oil, linseed\",16,0.10172865486376156\\n219,\"Oil, maize\",16,0.38528821889458253\\n220,\"Oil, olive residues\",15,-0.17508105381918043\\n221,\"Oil, olive, virgin\",16,0.05139037656023668\\n222,\"Oil, palm\",16,-0.4772662060334618\\n223,\"Oil, palm kernel\",16,-0.5094920794534337\\n224,\"Oil, rapeseed\",16,0.36100200299748425\\n225,\"Oil, sesame\",16,-0.2971808070042062\\n226,\"Oil, soybean\",16,0.7570469528933086\\n227,\"Oil, sunflower\",16,0.7590716869391807\\n228,\"Oil, vegetable origin nes\",16,-0.506697790586988\\n229,\"Oils, fats of animal nes\",16,0.3120154359959826\\n230,Oilseeds,16,-0.4648589087736704\\n231,Oilseeds nes,16,0.12192965475005939\\n232,Olives preserved,16,-0.7414034855330611\\n233,\"Onions, shallots, green\",16,-0.08784180320979572\\n234,Oranges,16,0.7735679640566916\\n235,Other Meat,16,-0.7674634103280201\\n236,Other food,16,-0.4676972906741398\\n237,Other food nes,16,-0.5208422437413485\\n238,Papayas,16,0.20678743089978496\\n239,Pastry,16,0.28764751574415703\\n240,Peaches and nectarines,15,-0.21513611441364966\\n241,Pears,14,-0.19152790592368063\\n242,\"Peas, dry\",16,0.1269912390280067\\n243,\"Peas, green\",14,0.15905114232612574\\n244,Pepper (piper spp.),16,0.06987177444783162\\n245,Persimmons,16,0.4824035920999166\\n246,Pet food,16,0.3107752783932818\\n247,Pigmeat,16,-0.24426932074240734\\n248,Pineapples,16,0.6317316304596619\\n249,Pineapples canned,16,0.7913657933912953\\n250,Pistachios,15,-0.03179929222898049\\n251,Plantains and others,8,-0.39338840480193976\\n252,Plums and sloes,15,0.32530271587304016\\n253,Plums dried (prunes),16,0.01749459149824027\\n254,Potatoes,16,-0.3391221491385886\\n255,\"Potatoes, frozen\",16,-0.10898145470061361\\n256,Poultry Meat,16,-0.8761392828082732\\n257,Pulses,16,-0.40739835739121766\\n258,\"Pumpkins, squash and gourds\",15,-0.22198864507762595\\n259,\"Pyrethrum, extraction\",12,-0.1900633049423762\\n260,Quinces,12,0.4522107624974663\\n261,Raisins,16,0.44340771762243064\\n262,Rapeseed,14,-0.19345867001388975\\n263,\"Rice, broken\",16,-0.7023502705153669\\n264,\"Rice, husked\",16,-0.3544759788021812\\n265,\"Rice, milled\",16,-0.6504318702464256\\n266,\"Rice, paddy\",16,-0.41754213209845614\\n267,\"Rice, paddy (rice milled equivalent)\",16,-0.7230103230112795\\n268,Roots and Tubers,16,-0.12133253787781381\\n269,Roots and tubers nes,16,-0.5295157952901934\\n270,Rubber natural dry,16,-0.4803142242901849\\n271,\"Rubber, natural\",16,-0.2939930738496209\\n272,Rye,12,0.23265147658722932\\n273,Sesame seed,16,-0.06767739331162141\\n274,\"Silk, raw\",11,0.5067235634549814\\n275,\"Silk-worm cocoons, reelable\",12,0.6680510904704244\\n276,\"Skins, sheep, wet salted\",11,-0.27274100165829346\\n277,\"Skins, sheep, with wool\",10,-0.27123629620957745\\n278,Sorghum,16,0.4857332912837421\\n279,Soya sauce,16,-0.6853859851315731\\n280,Soybeans,16,-0.4654010797438116\\n281,Spices nes,16,0.10315514076195001\\n282,Spinach,13,-0.06319246027722322\\n283,\"Starch, cassava\",16,0.14295061133347317\\n284,Straw husks,16,0.7704963844944286\\n285,Strawberries,14,0.6508527529896166\\n286,Sugar Crops Primary,16,-0.04592691244466344\\n287,Sugar Raw Centrifugal,16,-0.8274016887684966\\n288,Sugar and Honey,16,-0.7429034864433381\\n289,Sugar confectionery,16,0.9152431265183499\\n290,Sugar nes,16,0.4779606198050058\\n291,Sugar refined,16,0.3035649006143304\\n292,Sunflower seed,16,0.07975120315482198\\n293,Sweet corn frozen,14,-0.0420673117972129\\n294,Sweet corn prep or preserved,16,-0.3904749664647043\\n295,Sweet potatoes,16,-0.22625748034784962\\n296,Tallow,16,0.8665083295394527\\n297,\"Tangerines, mandarins, clementines, satsumas\",16,0.9515877341529146\\n298,Tea,16,0.687876968056415\\n299,\"Tea, mate extracts\",16,-0.4661912367975965\\n300,Textile Fibres,16,-0.4657016360688218\\n301,Tobacco,16,0.3182795341962754\\n302,Tobacco products nes,16,-0.49872942025429395\\n303,\"Tobacco, unmanufactured\",16,0.32186613452234464\\n304,Tomatoes,16,-0.10571363181525899\\n305,\"Tomatoes, paste\",16,0.8732902587314144\\n306,\"Tomatoes, peeled\",16,0.4945574163291955\\n307,Vanilla,15,0.7532285952049492\\n308,Vegetable Oil and Fat,16,0.7487919449733481\\n309,Vegetables,16,0.08855506992425745\\n310,Vegetables in vinegar,16,-0.21747623924650517\\n311,\"Vegetables, dehydrated\",16,0.08478472348845324\\n312,\"Vegetables, fresh nes\",16,0.7698518336015637\\n313,\"Vegetables, fresh or dried products nes\",16,0.0030523868598441675\\n314,\"Vegetables, frozen\",16,-0.015958332003013987\\n315,\"Vegetables, homogenized preparations\",16,-0.21295860760655155\\n316,\"Vegetables, preserved nes\",16,-0.5873062330824601\\n317,\"Vegetables, preserved, frozen\",15,0.6943874461891429\\n318,\"Vegetables, temporarily preserved\",16,0.1702386728486767\\n319,Vermouths & similar,16,0.48693510782003524\\n320,Wafers,16,-0.5644038047482167\\n321,\"Walnuts, shelled\",16,0.7129663882034502\\n322,\"Walnuts, with shell\",16,0.28086048645304923\\n323,Watermelons,16,-0.3462814781253003\\n324,\"Waters,ice etc\",16,-0.04822574094706135\\n325,Waxes vegetable,16,-0.2638654257958784\\n326,Wheat,16,-0.20663730238252762\\n327,\"Whey, dry\",16,-0.15907004287470772\\n328,Wine,16,-0.19044774376238346\\n329,\"Wool, degreased\",12,0.8373162516976491\\n330,\"Wool, greasy\",16,-0.830714553746521\\n331,\"Wool, hair waste\",16,0.18763582337290569\\n332,\"Yoghurt, concentrated or not\",16,-0.1362956471153497\\n'}"
            ]
          },
          "metadata": {
            "tags": []
          },
          "execution_count": 2
        }
      ]
    },
    {
      "cell_type": "code",
      "metadata": {
        "colab": {
          "base_uri": "https://localhost:8080/",
          "height": 204
        },
        "id": "XwDLDoc78qJu",
        "outputId": "fbd4c2f1-383c-4301-ff47-88fd0ac49452"
      },
      "source": [
        "df = pd.read_csv(\n",
        "  \"/content/brazil_corr_data.csv\",\n",
        "  index_col=0,\n",
        ")\n",
        "df.head()"
      ],
      "execution_count": 6,
      "outputs": [
        {
          "output_type": "execute_result",
          "data": {
            "text/html": [
              "<div>\n",
              "<style scoped>\n",
              "    .dataframe tbody tr th:only-of-type {\n",
              "        vertical-align: middle;\n",
              "    }\n",
              "\n",
              "    .dataframe tbody tr th {\n",
              "        vertical-align: top;\n",
              "    }\n",
              "\n",
              "    .dataframe thead th {\n",
              "        text-align: right;\n",
              "    }\n",
              "</style>\n",
              "<table border=\"1\" class=\"dataframe\">\n",
              "  <thead>\n",
              "    <tr style=\"text-align: right;\">\n",
              "      <th></th>\n",
              "      <th>item</th>\n",
              "      <th>n</th>\n",
              "      <th>corr</th>\n",
              "    </tr>\n",
              "  </thead>\n",
              "  <tbody>\n",
              "    <tr>\n",
              "      <th>256</th>\n",
              "      <td>Poultry Meat</td>\n",
              "      <td>16</td>\n",
              "      <td>-0.876139</td>\n",
              "    </tr>\n",
              "    <tr>\n",
              "      <th>330</th>\n",
              "      <td>Wool, greasy</td>\n",
              "      <td>16</td>\n",
              "      <td>-0.830715</td>\n",
              "    </tr>\n",
              "    <tr>\n",
              "      <th>287</th>\n",
              "      <td>Sugar Raw Centrifugal</td>\n",
              "      <td>16</td>\n",
              "      <td>-0.827402</td>\n",
              "    </tr>\n",
              "    <tr>\n",
              "      <th>175</th>\n",
              "      <td>Meat, chicken</td>\n",
              "      <td>16</td>\n",
              "      <td>-0.807388</td>\n",
              "    </tr>\n",
              "    <tr>\n",
              "      <th>98</th>\n",
              "      <td>Fibre crops nes</td>\n",
              "      <td>16</td>\n",
              "      <td>-0.803582</td>\n",
              "    </tr>\n",
              "  </tbody>\n",
              "</table>\n",
              "</div>"
            ],
            "text/plain": [
              "                      item   n      corr\n",
              "256           Poultry Meat  16 -0.876139\n",
              "330           Wool, greasy  16 -0.830715\n",
              "287  Sugar Raw Centrifugal  16 -0.827402\n",
              "175          Meat, chicken  16 -0.807388\n",
              "98         Fibre crops nes  16 -0.803582"
            ]
          },
          "metadata": {
            "tags": []
          },
          "execution_count": 6
        }
      ]
    },
    {
      "cell_type": "code",
      "metadata": {
        "colab": {
          "base_uri": "https://localhost:8080/",
          "height": 554
        },
        "id": "2Yx1xd0N8xUz",
        "outputId": "6db37f05-2184-4b47-f1cc-2d2bcd54346d"
      },
      "source": [
        "alt.Chart(df).mark_bar().encode(\n",
        "    x=alt.X('item:N', sort='-y'),\n",
        "    y='corr:Q'\n",
        ")"
      ],
      "execution_count": 11,
      "outputs": [
        {
          "output_type": "execute_result",
          "data": {
            "text/plain": [
              "alt.Chart(...)"
            ],
            "text/html": [
              "\n",
              "<div id=\"altair-viz-8e2f68d6a4c646b9be3b45dcff106d18\"></div>\n",
              "<script type=\"text/javascript\">\n",
              "  (function(spec, embedOpt){\n",
              "    let outputDiv = document.currentScript.previousElementSibling;\n",
              "    if (outputDiv.id !== \"altair-viz-8e2f68d6a4c646b9be3b45dcff106d18\") {\n",
              "      outputDiv = document.getElementById(\"altair-viz-8e2f68d6a4c646b9be3b45dcff106d18\");\n",
              "    }\n",
              "    const paths = {\n",
              "      \"vega\": \"https://cdn.jsdelivr.net/npm//vega@5?noext\",\n",
              "      \"vega-lib\": \"https://cdn.jsdelivr.net/npm//vega-lib?noext\",\n",
              "      \"vega-lite\": \"https://cdn.jsdelivr.net/npm//vega-lite@4.8.1?noext\",\n",
              "      \"vega-embed\": \"https://cdn.jsdelivr.net/npm//vega-embed@6?noext\",\n",
              "    };\n",
              "\n",
              "    function loadScript(lib) {\n",
              "      return new Promise(function(resolve, reject) {\n",
              "        var s = document.createElement('script');\n",
              "        s.src = paths[lib];\n",
              "        s.async = true;\n",
              "        s.onload = () => resolve(paths[lib]);\n",
              "        s.onerror = () => reject(`Error loading script: ${paths[lib]}`);\n",
              "        document.getElementsByTagName(\"head\")[0].appendChild(s);\n",
              "      });\n",
              "    }\n",
              "\n",
              "    function showError(err) {\n",
              "      outputDiv.innerHTML = `<div class=\"error\" style=\"color:red;\">${err}</div>`;\n",
              "      throw err;\n",
              "    }\n",
              "\n",
              "    function displayChart(vegaEmbed) {\n",
              "      vegaEmbed(outputDiv, spec, embedOpt)\n",
              "        .catch(err => showError(`Javascript Error: ${err.message}<br>This usually means there's a typo in your chart specification. See the javascript console for the full traceback.`));\n",
              "    }\n",
              "\n",
              "    if(typeof define === \"function\" && define.amd) {\n",
              "      requirejs.config({paths});\n",
              "      require([\"vega-embed\"], displayChart, err => showError(`Error loading script: ${err.message}`));\n",
              "    } else if (typeof vegaEmbed === \"function\") {\n",
              "      displayChart(vegaEmbed);\n",
              "    } else {\n",
              "      loadScript(\"vega\")\n",
              "        .then(() => loadScript(\"vega-lite\"))\n",
              "        .then(() => loadScript(\"vega-embed\"))\n",
              "        .catch(showError)\n",
              "        .then(() => displayChart(vegaEmbed));\n",
              "    }\n",
              "  })({\"config\": {\"view\": {\"continuousWidth\": 400, \"continuousHeight\": 300}}, \"data\": {\"name\": \"data-b9bf611235df01ef31557f1b72db4a9a\"}, \"mark\": \"bar\", \"encoding\": {\"x\": {\"type\": \"nominal\", \"field\": \"item\", \"sort\": \"-y\"}, \"y\": {\"type\": \"quantitative\", \"field\": \"corr\"}}, \"$schema\": \"https://vega.github.io/schema/vega-lite/v4.8.1.json\", \"datasets\": {\"data-b9bf611235df01ef31557f1b72db4a9a\": [{\"item\": \"Poultry Meat\", \"n\": 16, \"corr\": -0.8761392828082732}, {\"item\": \"Wool, greasy\", \"n\": 16, \"corr\": -0.830714553746521}, {\"item\": \"Sugar Raw Centrifugal\", \"n\": 16, \"corr\": -0.8274016887684966}, {\"item\": \"Meat, chicken\", \"n\": 16, \"corr\": -0.8073884216105441}, {\"item\": \"Fibre crops nes\", \"n\": 16, \"corr\": -0.8035816812588166}, {\"item\": \"Cream fresh\", \"n\": 16, \"corr\": -0.8035060960724597}, {\"item\": \"Meat, dried nes\", \"n\": 16, \"corr\": -0.7944002489816085}, {\"item\": \"Offals, pigs, edible\", \"n\": 16, \"corr\": -0.7813279684819419}, {\"item\": \"Other Meat\", \"n\": 16, \"corr\": -0.7674634103280201}, {\"item\": \"Mat\\ufffd\", \"n\": 16, \"corr\": -0.7622706142154662}, {\"item\": \"Sugar and Honey\", \"n\": 16, \"corr\": -0.7429034864433381}, {\"item\": \"Olives preserved\", \"n\": 16, \"corr\": -0.7414034855330611}, {\"item\": \"Rice, paddy (rice milled equivalent)\", \"n\": 16, \"corr\": -0.7230103230112795}, {\"item\": \"Alcoholic Beverages\", \"n\": 16, \"corr\": -0.7179262145836542}, {\"item\": \"Eggs, hen, in shell\", \"n\": 16, \"corr\": -0.7087710702313894}, {\"item\": \"Lemons and limes\", \"n\": 16, \"corr\": -0.7081980265744495}, {\"item\": \"Rice, broken\", \"n\": 16, \"corr\": -0.7023502705153669}, {\"item\": \"Soya sauce\", \"n\": 16, \"corr\": -0.6853859851315731}, {\"item\": \"Flour, maize\", \"n\": 16, \"corr\": -0.6845173834953848}, {\"item\": \"Flour, mustard\", \"n\": 16, \"corr\": -0.6735105444615239}, {\"item\": \"Meat, pig, preparations\", \"n\": 16, \"corr\": -0.6689946573657318}, {\"item\": \"Juice, orange, single strength\", \"n\": 16, \"corr\": -0.6675874253570955}, {\"item\": \"Meat, duck\", \"n\": 16, \"corr\": -0.6675148228379015}, {\"item\": \"Cider etc\", \"n\": 16, \"corr\": -0.6622021204752983}, {\"item\": \"Beer of barley\", \"n\": 16, \"corr\": -0.6518092877675908}, {\"item\": \"Rice, milled\", \"n\": 16, \"corr\": -0.6504318702464256}, {\"item\": \"Offals, edible, cattle\", \"n\": 16, \"corr\": -0.647954387837852}, {\"item\": \"Oil, groundnut\", \"n\": 16, \"corr\": -0.6233412828468233}, {\"item\": \"Cereal preparations\", \"n\": 16, \"corr\": -0.6090500931699427}, {\"item\": \"Food wastes\", \"n\": 16, \"corr\": -0.5982104515193661}, {\"item\": \"Beverages, distilled alcoholic\", \"n\": 16, \"corr\": -0.5970803725917342}, {\"item\": \"Meat, chicken, canned\", \"n\": 16, \"corr\": -0.5954681500026114}, {\"item\": \"Beverages\", \"n\": 16, \"corr\": -0.5887582507378688}, {\"item\": \"Vegetables, preserved nes\", \"n\": 16, \"corr\": -0.5873062330824601}, {\"item\": \"Juice, fruit nes\", \"n\": 16, \"corr\": -0.5810659556498236}, {\"item\": \"Coffee, green\", \"n\": 16, \"corr\": -0.5659828509432356}, {\"item\": \"Wafers\", \"n\": 16, \"corr\": -0.5644038047482167}, {\"item\": \"Cereals\", \"n\": 16, \"corr\": -0.5572041626238433}, {\"item\": \"Buckwheat\", \"n\": 16, \"corr\": -0.5504513603650045}, {\"item\": \"Lard\", \"n\": 16, \"corr\": -0.5464887002075705}, {\"item\": \"Maize\", \"n\": 16, \"corr\": -0.5364229872293192}, {\"item\": \"Avocados\", \"n\": 16, \"corr\": -0.5359565970470114}, {\"item\": \"Roots and tubers nes\", \"n\": 16, \"corr\": -0.5295157952901934}, {\"item\": \"Figs\", \"n\": 16, \"corr\": -0.5219002076724673}, {\"item\": \"Other food nes\", \"n\": 16, \"corr\": -0.5208422437413485}, {\"item\": \"Oil, palm kernel\", \"n\": 16, \"corr\": -0.5094920794534337}, {\"item\": \"Oil, vegetable origin nes\", \"n\": 16, \"corr\": -0.5066977905869879}, {\"item\": \"Meat, cattle\", \"n\": 16, \"corr\": -0.5063662561163267}, {\"item\": \"Tobacco products nes\", \"n\": 16, \"corr\": -0.498729420254294}, {\"item\": \"Cereal preparations nes\", \"n\": 16, \"corr\": -0.4964661095872877}, {\"item\": \"Cotton lint\", \"n\": 16, \"corr\": -0.4832703821461333}, {\"item\": \"Rubber natural dry\", \"n\": 16, \"corr\": -0.4803142242901849}, {\"item\": \"Natural Rubber\", \"n\": 16, \"corr\": -0.4802254788783271}, {\"item\": \"Oil, palm\", \"n\": 16, \"corr\": -0.4772662060334618}, {\"item\": \"Juice, citrus, single strength\", \"n\": 10, \"corr\": -0.4722497883969682}, {\"item\": \"Meat, pig sausages\", \"n\": 16, \"corr\": -0.4693520820841898}, {\"item\": \"Other food\", \"n\": 16, \"corr\": -0.4676972906741398}, {\"item\": \"Tea, mate extracts\", \"n\": 16, \"corr\": -0.4661912367975965}, {\"item\": \"Textile Fibres\", \"n\": 16, \"corr\": -0.4657016360688218}, {\"item\": \"Soybeans\", \"n\": 16, \"corr\": -0.4654010797438116}, {\"item\": \"Oilseeds\", \"n\": 16, \"corr\": -0.4648589087736704}, {\"item\": \"Melons, other (inc.cantaloupes)\", \"n\": 16, \"corr\": -0.4576518395358613}, {\"item\": \"Beans, dry\", \"n\": 16, \"corr\": -0.4547148311714042}, {\"item\": \"Oats\", \"n\": 16, \"corr\": -0.4508642149564835}, {\"item\": \"Hides, cattle, wet salted\", \"n\": 16, \"corr\": -0.44998885166429614}, {\"item\": \"Eggs\", \"n\": 16, \"corr\": -0.4180286615779877}, {\"item\": \"Rice, paddy\", \"n\": 16, \"corr\": -0.41754213209845614}, {\"item\": \"Pulses\", \"n\": 16, \"corr\": -0.4073983573912177}, {\"item\": \"Juice, citrus, concentrated\", \"n\": 16, \"corr\": -0.4063368326199047}, {\"item\": \"Plantains and others\", \"n\": 8, \"corr\": -0.39338840480193976}, {\"item\": \"Alfalfa meal and pellets\", \"n\": 13, \"corr\": -0.3912181392289061}, {\"item\": \"Sweet corn prep or preserved\", \"n\": 16, \"corr\": -0.3904749664647043}, {\"item\": \"Bread\", \"n\": 16, \"corr\": -0.3714250119463995}, {\"item\": \"Groundnuts, prepared\", \"n\": 16, \"corr\": -0.3650181756986306}, {\"item\": \"Fruit, fresh nes\", \"n\": 16, \"corr\": -0.3638396037795122}, {\"item\": \"Fruit\", \"n\": 16, \"corr\": -0.36062904414811053}, {\"item\": \"Meat, pork\", \"n\": 16, \"corr\": -0.3579212993846344}, {\"item\": \"Rice, husked\", \"n\": 16, \"corr\": -0.3544759788021812}, {\"item\": \"Macaroni\", \"n\": 16, \"corr\": -0.3526872189473973}, {\"item\": \"Watermelons\", \"n\": 16, \"corr\": -0.3462814781253003}, {\"item\": \"Potatoes\", \"n\": 16, \"corr\": -0.3391221491385886}, {\"item\": \"Meal, meat\", \"n\": 16, \"corr\": -0.3314883738801584}, {\"item\": \"Mangoes, mangosteens, guavas\", \"n\": 16, \"corr\": -0.31965408431993075}, {\"item\": \"Nuts nes\", \"n\": 16, \"corr\": -0.31435992484712605}, {\"item\": \"Groundnuts, shelled\", \"n\": 16, \"corr\": -0.30925274510757594}, {\"item\": \"Oil, sesame\", \"n\": 16, \"corr\": -0.2971808070042062}, {\"item\": \"Honey, natural\", \"n\": 16, \"corr\": -0.29710211533378184}, {\"item\": \"Rubber, natural\", \"n\": 16, \"corr\": -0.2939930738496209}, {\"item\": \"Jute\", \"n\": 15, \"corr\": -0.2906747908999118}, {\"item\": \"Figs dried\", \"n\": 15, \"corr\": -0.2861517266006597}, {\"item\": \"Oil, coconut (copra)\", \"n\": 16, \"corr\": -0.2848548224314819}, {\"item\": \"Copra\", \"n\": 10, \"corr\": -0.2816001686990203}, {\"item\": \"Skins, sheep, wet salted\", \"n\": 11, \"corr\": -0.27274100165829346}, {\"item\": \"Skins, sheep, with wool\", \"n\": 10, \"corr\": -0.27123629620957745}, {\"item\": \"Waxes vegetable\", \"n\": 16, \"corr\": -0.2638654257958784}, {\"item\": \"Cake, sunflower\", \"n\": 13, \"corr\": -0.2630863427194605}, {\"item\": \"Milk, products of natural constituents nes\", \"n\": 16, \"corr\": -0.2526940489540305}, {\"item\": \"Apricots\", \"n\": 12, \"corr\": -0.2499035413272569}, {\"item\": \"Pigmeat\", \"n\": 16, \"corr\": -0.2442693207424073}, {\"item\": \"Fruit, dried nes\", \"n\": 16, \"corr\": -0.2293230346418239}, {\"item\": \"Cake, groundnuts\", \"n\": 16, \"corr\": -0.2281640272501809}, {\"item\": \"Sweet potatoes\", \"n\": 16, \"corr\": -0.2262574803478496}, {\"item\": \"Pumpkins, squash and gourds\", \"n\": 15, \"corr\": -0.22198864507762595}, {\"item\": \"Vegetables in vinegar\", \"n\": 16, \"corr\": -0.2174762392465052}, {\"item\": \"Flax fibre and tow\", \"n\": 12, \"corr\": -0.21517302307012065}, {\"item\": \"Peaches and nectarines\", \"n\": 15, \"corr\": -0.2151361144136497}, {\"item\": \"Oats rolled\", \"n\": 16, \"corr\": -0.21425052663991548}, {\"item\": \"Vegetables, homogenized preparations\", \"n\": 16, \"corr\": -0.21295860760655155}, {\"item\": \"Carrots and turnips\", \"n\": 16, \"corr\": -0.21128899782402416}, {\"item\": \"Wheat\", \"n\": 16, \"corr\": -0.2066373023825276}, {\"item\": \"Flour, cassava\", \"n\": 16, \"corr\": -0.20486610866579366}, {\"item\": \"Forage products\", \"n\": 15, \"corr\": -0.20043446698826595}, {\"item\": \"Dregs from brewing, distillation\", \"n\": 13, \"corr\": -0.19669719583350545}, {\"item\": \"Rapeseed\", \"n\": 14, \"corr\": -0.19345867001388972}, {\"item\": \"Coconuts, desiccated\", \"n\": 16, \"corr\": -0.19292305316196764}, {\"item\": \"Pears\", \"n\": 14, \"corr\": -0.19152790592368066}, {\"item\": \"Wine\", \"n\": 16, \"corr\": -0.19044774376238344}, {\"item\": \"Pyrethrum, extraction\", \"n\": 12, \"corr\": -0.1900633049423762}, {\"item\": \"Hides nes\", \"n\": 8, \"corr\": -0.18635104274793132}, {\"item\": \"Nuts\", \"n\": 16, \"corr\": -0.1758156213738585}, {\"item\": \"Oil, olive residues\", \"n\": 15, \"corr\": -0.17508105381918046}, {\"item\": \"Cashew nuts, with shell\", \"n\": 15, \"corr\": -0.1750064231767844}, {\"item\": \"Whey, dry\", \"n\": 16, \"corr\": -0.15907004287470772}, {\"item\": \"Canary seed\", \"n\": 16, \"corr\": -0.15774985721565782}, {\"item\": \"Cake, palm kernel\", \"n\": 12, \"corr\": -0.15728546969128931}, {\"item\": \"Cigars, cheroots\", \"n\": 16, \"corr\": -0.15422626859139146}, {\"item\": \"Oil, boiled etc\", \"n\": 16, \"corr\": -0.15301587307733527}, {\"item\": \"Barley\", \"n\": 14, \"corr\": -0.1488120392376191}, {\"item\": \"Chick peas\", \"n\": 16, \"corr\": -0.14465953002910434}, {\"item\": \"Coffee, extracts\", \"n\": 16, \"corr\": -0.14246252523924574}, {\"item\": \"Yoghurt, concentrated or not\", \"n\": 16, \"corr\": -0.1362956471153497}, {\"item\": \"Flour, wheat\", \"n\": 16, \"corr\": -0.1358970660426047}, {\"item\": \"Chestnut\", \"n\": 15, \"corr\": -0.13576228515538094}, {\"item\": \"Eggplants (aubergines)\", \"n\": 14, \"corr\": -0.13516257872878026}, {\"item\": \"Food prep nes\", \"n\": 16, \"corr\": -0.12830626802206185}, {\"item\": \"Mixes and doughs\", \"n\": 16, \"corr\": -0.1256836033752318}, {\"item\": \"Beet pulp\", \"n\": 16, \"corr\": -0.12353794635380995}, {\"item\": \"Roots and Tubers\", \"n\": 16, \"corr\": -0.1213325378778138}, {\"item\": \"Fatty acids\", \"n\": 16, \"corr\": -0.11838026334796314}, {\"item\": \"Butter, cow milk\", \"n\": 16, \"corr\": -0.11339214233995698}, {\"item\": \"Potatoes, frozen\", \"n\": 16, \"corr\": -0.1089814547006136}, {\"item\": \"Grapefruit (inc. pomelos)\", \"n\": 12, \"corr\": -0.10744437557088984}, {\"item\": \"Cherries\", \"n\": 12, \"corr\": -0.1066926387772473}, {\"item\": \"Tomatoes\", \"n\": 16, \"corr\": -0.105713631815259}, {\"item\": \"Lettuce and chicory\", \"n\": 15, \"corr\": -0.10183361540762953}, {\"item\": \"Onions, shallots, green\", \"n\": 16, \"corr\": -0.08784180320979572}, {\"item\": \"Meat, cattle, boneless (beef & veal)\", \"n\": 16, \"corr\": -0.08703707380856776}, {\"item\": \"Mushrooms and truffles\", \"n\": 16, \"corr\": -0.08366135106259935}, {\"item\": \"Lentils\", \"n\": 16, \"corr\": -0.07846561799617421}, {\"item\": \"Flour, potatoes\", \"n\": 16, \"corr\": -0.07597883402649183}, {\"item\": \"Millet\", \"n\": 12, \"corr\": -0.07495542152217134}, {\"item\": \"Apricots, dry\", \"n\": 15, \"corr\": -0.07167105147961314}, {\"item\": \"Meat, sheep\", \"n\": 14, \"corr\": -0.06857966173619391}, {\"item\": \"Sesame seed\", \"n\": 16, \"corr\": -0.06767739331162141}, {\"item\": \"Asparagus\", \"n\": 12, \"corr\": -0.06733372342127845}, {\"item\": \"Artichokes\", \"n\": 12, \"corr\": -0.0673337234212784}, {\"item\": \"Spinach\", \"n\": 13, \"corr\": -0.06319246027722322}, {\"item\": \"Cake, soybeans\", \"n\": 16, \"corr\": -0.06155999414824725}, {\"item\": \"Maple sugar and syrups\", \"n\": 12, \"corr\": -0.056355537942393286}, {\"item\": \"Coconuts\", \"n\": 16, \"corr\": -0.055576225669588857}, {\"item\": \"Cocoa, beans\", \"n\": 16, \"corr\": -0.051871774690350335}, {\"item\": \"Leeks, other alliaceous vegetables\", \"n\": 13, \"corr\": -0.04882159024204245}, {\"item\": \"Waters,ice etc\", \"n\": 16, \"corr\": -0.04822574094706135}, {\"item\": \"Sugar Crops Primary\", \"n\": 16, \"corr\": -0.04592691244466344}, {\"item\": \"Sweet corn frozen\", \"n\": 14, \"corr\": -0.0420673117972129}, {\"item\": \"Cucumbers and gherkins\", \"n\": 16, \"corr\": -0.041814696077365536}, {\"item\": \"Milk, skimmed cow\", \"n\": 16, \"corr\": -0.03994754344740728}, {\"item\": \"Cauliflowers and broccoli\", \"n\": 16, \"corr\": -0.03664417070706147}, {\"item\": \"Bovine Meat\", \"n\": 16, \"corr\": -0.0344410133765918}, {\"item\": \"Flour, rice\", \"n\": 16, \"corr\": -0.03184958212960637}, {\"item\": \"Pistachios\", \"n\": 15, \"corr\": -0.03179929222898049}, {\"item\": \"Feed and meal, gluten\", \"n\": 16, \"corr\": -0.030296763214916186}, {\"item\": \"Cotton linter\", \"n\": 16, \"corr\": -0.02917582660889378}, {\"item\": \"Cabbages and other brassicas\", \"n\": 16, \"corr\": -0.028059978316441688}, {\"item\": \"Almonds, with shell\", \"n\": 15, \"corr\": -0.02275635498018413}, {\"item\": \"Eggs, other bird, in shell\", \"n\": 16, \"corr\": -0.01991968040331733}, {\"item\": \"Vegetables, frozen\", \"n\": 16, \"corr\": -0.015958332003013987}, {\"item\": \"Fat nes, prepared\", \"n\": 16, \"corr\": -0.00996108128228795}, {\"item\": \"Juice, tomato\", \"n\": 12, \"corr\": -0.008673171868060199}, {\"item\": \"Vegetables, fresh or dried products nes\", \"n\": 16, \"corr\": 0.0030523868598441675}, {\"item\": \"Dates\", \"n\": 16, \"corr\": 0.00720848119024163}, {\"item\": \"Grapes\", \"n\": 16, \"corr\": 0.012751924671120423}, {\"item\": \"Plums dried (prunes)\", \"n\": 16, \"corr\": 0.01749459149824027}, {\"item\": \"Ginger\", \"n\": 16, \"corr\": 0.03516437262010366}, {\"item\": \"Cotton waste\", \"n\": 16, \"corr\": 0.04315466315185692}, {\"item\": \"Hides and skins\", \"n\": 16, \"corr\": 0.04508150060528725}, {\"item\": \"Oil, olive, virgin\", \"n\": 16, \"corr\": 0.05139037656023668}, {\"item\": \"Fodder and Feeding Stuff\", \"n\": 16, \"corr\": 0.051541239670570366}, {\"item\": \"Crude Materials nes\", \"n\": 16, \"corr\": 0.05186917070298041}, {\"item\": \"Pepper (piper spp.)\", \"n\": 16, \"corr\": 0.06987177444783163}, {\"item\": \"Milk, whole fresh cow\", \"n\": 16, \"corr\": 0.07180515991128274}, {\"item\": \"Sunflower seed\", \"n\": 16, \"corr\": 0.07975120315482198}, {\"item\": \"Vegetables, dehydrated\", \"n\": 16, \"corr\": 0.08478472348845324}, {\"item\": \"Vegetables\", \"n\": 16, \"corr\": 0.08855506992425745}, {\"item\": \"Fruit, cooked, homogenized preparations\", \"n\": 16, \"corr\": 0.09523415975575623}, {\"item\": \"Hops\", \"n\": 16, \"corr\": 0.09612098909176364}, {\"item\": \"Oil, linseed\", \"n\": 16, \"corr\": 0.10172865486376156}, {\"item\": \"Spices nes\", \"n\": 16, \"corr\": 0.10315514076195}, {\"item\": \"Milk, whole evaporated\", \"n\": 13, \"corr\": 0.11031900320634416}, {\"item\": \"Margarine, short\", \"n\": 16, \"corr\": 0.1194992870338962}, {\"item\": \"Oilseeds nes\", \"n\": 16, \"corr\": 0.1219296547500594}, {\"item\": \"Peas, dry\", \"n\": 16, \"corr\": 0.1269912390280067}, {\"item\": \"Juice, grapefruit, concentrated\", \"n\": 11, \"corr\": 0.13279042195671031}, {\"item\": \"Cake, maize\", \"n\": 11, \"corr\": 0.13410399912435753}, {\"item\": \"Starch, cassava\", \"n\": 16, \"corr\": 0.14295061133347314}, {\"item\": \"Flour, pulses\", \"n\": 15, \"corr\": 0.144205734670181}, {\"item\": \"Food preparations, flour, malt extract\", \"n\": 16, \"corr\": 0.15050126435848776}, {\"item\": \"Glucose and dextrose\", \"n\": 16, \"corr\": 0.15256725564726584}, {\"item\": \"Meat nes\", \"n\": 15, \"corr\": 0.15764733535620726}, {\"item\": \"Meat, goat\", \"n\": 12, \"corr\": 0.15869780333863787}, {\"item\": \"Flour, cereals\", \"n\": 12, \"corr\": 0.15889805683840555}, {\"item\": \"Peas, green\", \"n\": 14, \"corr\": 0.15905114232612574}, {\"item\": \"Bran, wheat\", \"n\": 16, \"corr\": 0.16367510719894945}, {\"item\": \"Vegetables, temporarily preserved\", \"n\": 16, \"corr\": 0.1702386728486767}, {\"item\": \"Wool, hair waste\", \"n\": 16, \"corr\": 0.18763582337290569}, {\"item\": \"Juice, apple, single strength\", \"n\": 16, \"corr\": 0.19492715699923369}, {\"item\": \"Oil, castor beans\", \"n\": 16, \"corr\": 0.19677316498362352}, {\"item\": \"Cottonseed\", \"n\": 16, \"corr\": 0.19845833076398756}, {\"item\": \"Papayas\", \"n\": 16, \"corr\": 0.20678743089978496}, {\"item\": \"Fatty substance residues\", \"n\": 16, \"corr\": 0.21211287223483166}, {\"item\": \"Rye\", \"n\": 12, \"corr\": 0.2326514765872293}, {\"item\": \"Juice, apple, concentrated\", \"n\": 16, \"corr\": 0.25176759446220665}, {\"item\": \"Lactose\", \"n\": 16, \"corr\": 0.25208445001266183}, {\"item\": \"Fruit, prepared nes\", \"n\": 16, \"corr\": 0.2526356151724506}, {\"item\": \"Milk, whole dried\", \"n\": 16, \"corr\": 0.25348435316625073}, {\"item\": \"Malt\", \"n\": 16, \"corr\": 0.26163058504272463}, {\"item\": \"Germ, maize\", \"n\": 16, \"corr\": 0.2638321085605709}, {\"item\": \"Walnuts, with shell\", \"n\": 16, \"corr\": 0.28086048645304923}, {\"item\": \"Fructose and syrup, other\", \"n\": 15, \"corr\": 0.2846492215565356}, {\"item\": \"Flax tow waste\", \"n\": 16, \"corr\": 0.2863707514344002}, {\"item\": \"Pastry\", \"n\": 16, \"corr\": 0.28764751574415703}, {\"item\": \"Cocoa, paste\", \"n\": 16, \"corr\": 0.2917268878825825}, {\"item\": \"Coffee, roasted\", \"n\": 16, \"corr\": 0.2996268812578372}, {\"item\": \"Sugar refined\", \"n\": 16, \"corr\": 0.3035649006143304}, {\"item\": \"Bran, maize\", \"n\": 16, \"corr\": 0.3075871945477208}, {\"item\": \"Cloves\", \"n\": 16, \"corr\": 0.31044175744689656}, {\"item\": \"Pet food\", \"n\": 16, \"corr\": 0.3107752783932818}, {\"item\": \"Oils, fats of animal nes\", \"n\": 16, \"corr\": 0.3120154359959826}, {\"item\": \"Tobacco\", \"n\": 16, \"corr\": 0.3182795341962754}, {\"item\": \"Ice cream and edible ice\", \"n\": 16, \"corr\": 0.3212621687383726}, {\"item\": \"Tobacco, unmanufactured\", \"n\": 16, \"corr\": 0.32186613452234464}, {\"item\": \"Plums and sloes\", \"n\": 15, \"corr\": 0.32530271587304016}, {\"item\": \"Cheese, processed\", \"n\": 16, \"corr\": 0.35385538020938634}, {\"item\": \"Linseed\", \"n\": 16, \"corr\": 0.3606661362033343}, {\"item\": \"Oil, rapeseed\", \"n\": 16, \"corr\": 0.36100200299748425}, {\"item\": \"Dairy Products\", \"n\": 16, \"corr\": 0.3641497224924449}, {\"item\": \"Mustard seed\", \"n\": 14, \"corr\": 0.3746700500354109}, {\"item\": \"Oil, maize\", \"n\": 16, \"corr\": 0.3852882188945825}, {\"item\": \"Anise, badian, fennel, coriander\", \"n\": 16, \"corr\": 0.3897220491767559}, {\"item\": \"Milk, whole condensed\", \"n\": 16, \"corr\": 0.4048822597220678}, {\"item\": \"Juice, orange, concentrated\", \"n\": 16, \"corr\": 0.4146553102745822}, {\"item\": \"Chillies and peppers, green\", \"n\": 16, \"corr\": 0.41489282662620935}, {\"item\": \"Hazelnuts, shelled\", \"n\": 13, \"corr\": 0.4407374736796738}, {\"item\": \"Raisins\", \"n\": 16, \"corr\": 0.44340771762243053}, {\"item\": \"Grease incl. lanolin wool\", \"n\": 16, \"corr\": 0.4512747921844044}, {\"item\": \"Quinces\", \"n\": 12, \"corr\": 0.4522107624974663}, {\"item\": \"Garlic\", \"n\": 16, \"corr\": 0.4661209124278433}, {\"item\": \"Brazil nuts, shelled\", \"n\": 16, \"corr\": 0.4701104404474306}, {\"item\": \"Nuts, prepared (exc. groundnuts)\", \"n\": 16, \"corr\": 0.4731132533042581}, {\"item\": \"Sugar nes\", \"n\": 16, \"corr\": 0.4779606198050058}, {\"item\": \"Persimmons\", \"n\": 16, \"corr\": 0.4824035920999166}, {\"item\": \"Cake, copra\", \"n\": 10, \"corr\": 0.4833529087292778}, {\"item\": \"Sorghum\", \"n\": 16, \"corr\": 0.4857332912837421}, {\"item\": \"Vermouths & similar\", \"n\": 16, \"corr\": 0.4869351078200352}, {\"item\": \"Cotton, carded, combed\", \"n\": 16, \"corr\": 0.4888898447919688}, {\"item\": \"Tomatoes, peeled\", \"n\": 16, \"corr\": 0.4945574163291955}, {\"item\": \"Silk, raw\", \"n\": 11, \"corr\": 0.5067235634549814}, {\"item\": \"Coffee, substitutes containing coffee\", \"n\": 16, \"corr\": 0.5089340377474424}, {\"item\": \"Oil, essential nes\", \"n\": 16, \"corr\": 0.5641528281612544}, {\"item\": \"Buttermilk, curdled, acidified milk\", \"n\": 16, \"corr\": 0.5817521282962576}, {\"item\": \"Nutmeg, mace and cardamoms\", \"n\": 16, \"corr\": 0.5826714243690573}, {\"item\": \"Juice, pineapple, concentrated\", \"n\": 16, \"corr\": 0.5838307926992325}, {\"item\": \"Cashew nuts, shelled\", \"n\": 16, \"corr\": 0.5865064323051052}, {\"item\": \"Milk, skimmed dried\", \"n\": 16, \"corr\": 0.602945761903879}, {\"item\": \"Cigarettes\", \"n\": 16, \"corr\": 0.6083171352934398}, {\"item\": \"Mushrooms, canned\", \"n\": 16, \"corr\": 0.6232943024593983}, {\"item\": \"Molasses\", \"n\": 16, \"corr\": 0.6256882194409774}, {\"item\": \"Pineapples\", \"n\": 16, \"corr\": 0.6317316304596619}, {\"item\": \"Meat, turkey\", \"n\": 16, \"corr\": 0.6333945913774296}, {\"item\": \"Cheese, whole cow milk\", \"n\": 16, \"corr\": 0.6343487782215906}, {\"item\": \"Meat, beef, preparations\", \"n\": 16, \"corr\": 0.6418412209013211}, {\"item\": \"Cassava dried\", \"n\": 16, \"corr\": 0.6496505278244051}, {\"item\": \"Strawberries\", \"n\": 14, \"corr\": 0.6508527529896166}, {\"item\": \"Silk-worm cocoons, reelable\", \"n\": 12, \"corr\": 0.6680510904704244}, {\"item\": \"Cake, cottonseed\", \"n\": 16, \"corr\": 0.6767163888526371}, {\"item\": \"Non-alcoholic Beverages\", \"n\": 16, \"corr\": 0.6849967484774723}, {\"item\": \"Cocoa, butter\", \"n\": 16, \"corr\": 0.6869339407910482}, {\"item\": \"Tea\", \"n\": 16, \"corr\": 0.6878769680564151}, {\"item\": \"Kiwi fruit\", \"n\": 13, \"corr\": 0.6915528972787012}, {\"item\": \"Cereals, breakfast\", \"n\": 16, \"corr\": 0.6922116821995891}, {\"item\": \"Vegetables, preserved, frozen\", \"n\": 15, \"corr\": 0.6943874461891429}, {\"item\": \"Almonds shelled\", \"n\": 15, \"corr\": 0.6946715569176939}, {\"item\": \"Apples\", \"n\": 16, \"corr\": 0.6996797711927283}, {\"item\": \"Feed, pulp of fruit\", \"n\": 16, \"corr\": 0.7002764375761863}, {\"item\": \"Walnuts, shelled\", \"n\": 16, \"corr\": 0.7129663882034502}, {\"item\": \"Bananas\", \"n\": 16, \"corr\": 0.7162324287759084}, {\"item\": \"Juice, grape\", \"n\": 16, \"corr\": 0.7164809522593567}, {\"item\": \"Eggs, dried\", \"n\": 16, \"corr\": 0.7241033402207947}, {\"item\": \"Chillies and peppers, dry\", \"n\": 16, \"corr\": 0.7254526226951368}, {\"item\": \"Eggs, liquid\", \"n\": 16, \"corr\": 0.7310034647768061}, {\"item\": \"Meat, pig\", \"n\": 16, \"corr\": 0.7378125225083434}, {\"item\": \"Juice, lemon, concentrated\", \"n\": 10, \"corr\": 0.7438312537163535}, {\"item\": \"Vegetable Oil and Fat\", \"n\": 16, \"corr\": 0.7487919449733481}, {\"item\": \"Vanilla\", \"n\": 15, \"corr\": 0.7532285952049492}, {\"item\": \"Oil, soybean\", \"n\": 16, \"corr\": 0.7570469528933086}, {\"item\": \"Oil, sunflower\", \"n\": 16, \"corr\": 0.7590716869391807}, {\"item\": \"Cocoa, powder & cake\", \"n\": 16, \"corr\": 0.7599209610514093}, {\"item\": \"Beeswax\", \"n\": 16, \"corr\": 0.7651650550877263}, {\"item\": \"Vegetables, fresh nes\", \"n\": 16, \"corr\": 0.7698518336015637}, {\"item\": \"Straw husks\", \"n\": 16, \"corr\": 0.7704963844944286}, {\"item\": \"Oranges\", \"n\": 16, \"corr\": 0.7735679640566916}, {\"item\": \"Flax fibre raw\", \"n\": 11, \"corr\": 0.7809580750676026}, {\"item\": \"Infant food\", \"n\": 16, \"corr\": 0.7814137844002016}, {\"item\": \"Hazelnuts, with shell\", \"n\": 12, \"corr\": 0.782080490086}, {\"item\": \"Pineapples canned\", \"n\": 16, \"corr\": 0.7913657933912953}, {\"item\": \"Bacon and ham\", \"n\": 16, \"corr\": 0.8025444452387718}, {\"item\": \"Beverages, non alcoholic\", \"n\": 16, \"corr\": 0.8029434292833815}, {\"item\": \"Cinnamon (cannella)\", \"n\": 16, \"corr\": 0.8151242882204591}, {\"item\": \"Fat, pigs\", \"n\": 16, \"corr\": 0.8171609174317134}, {\"item\": \"Beans, green\", \"n\": 13, \"corr\": 0.832823387372471}, {\"item\": \"Wool, degreased\", \"n\": 12, \"corr\": 0.8373162516976491}, {\"item\": \"Tallow\", \"n\": 16, \"corr\": 0.8665083295394527}, {\"item\": \"Oil, cottonseed\", \"n\": 16, \"corr\": 0.8724430182119746}, {\"item\": \"Coir\", \"n\": 13, \"corr\": 0.8730765847036877}, {\"item\": \"Tomatoes, paste\", \"n\": 16, \"corr\": 0.8732902587314144}, {\"item\": \"Animal Fats and Oils (excl. Butter)\", \"n\": 16, \"corr\": 0.8931981753698409}, {\"item\": \"Meat, horse\", \"n\": 16, \"corr\": 0.9023073239219256}, {\"item\": \"Chocolate products nes\", \"n\": 16, \"corr\": 0.9070237601462292}, {\"item\": \"Juice, pineapple\", \"n\": 16, \"corr\": 0.910550185446336}, {\"item\": \"Sugar confectionery\", \"n\": 16, \"corr\": 0.91524312651835}, {\"item\": \"Offals, liver geese\", \"n\": 10, \"corr\": 0.9185989098325452}, {\"item\": \"Cocoons, unreelable & waste\", \"n\": 16, \"corr\": 0.9415420028097105}, {\"item\": \"Tangerines, mandarins, clementines, satsumas\", \"n\": 16, \"corr\": 0.9515877341529146}]}}, {\"mode\": \"vega-lite\"});\n",
              "</script>"
            ]
          },
          "metadata": {
            "tags": []
          },
          "execution_count": 11
        }
      ]
    }
  ]
}