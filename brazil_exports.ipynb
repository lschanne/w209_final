{
  "nbformat": 4,
  "nbformat_minor": 0,
  "metadata": {
    "colab": {
      "name": "brazil_exports.ipynb",
      "provenance": [],
      "collapsed_sections": [],
      "authorship_tag": "ABX9TyNPT/jw4LIkM0yknaEWX8tm",
      "include_colab_link": true
    },
    "kernelspec": {
      "name": "python3",
      "display_name": "Python 3"
    },
    "language_info": {
      "name": "python"
    }
  },
  "cells": [
    {
      "cell_type": "markdown",
      "metadata": {
        "id": "view-in-github",
        "colab_type": "text"
      },
      "source": [
        "<a href=\"https://colab.research.google.com/github/lschanne/w209_final/blob/master/brazil_exports.ipynb\" target=\"_parent\"><img src=\"https://colab.research.google.com/assets/colab-badge.svg\" alt=\"Open In Colab\"/></a>"
      ]
    },
    {
      "cell_type": "code",
      "metadata": {
        "id": "kLvho8Qu8X2L"
      },
      "source": [
        "import altair as alt\n",
        "import numpy as np\n",
        "import pandas as pd"
      ],
      "execution_count": 1,
      "outputs": []
    },
    {
      "cell_type": "code",
      "metadata": {
        "colab": {
          "resources": {
            "http://localhost:8080/nbextensions/google.colab/files.js": {
              "data": "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",
              "ok": true,
              "headers": [
                [
                  "content-type",
                  "application/javascript"
                ]
              ],
              "status": 200,
              "status_text": ""
            }
          },
          "base_uri": "https://localhost:8080/",
          "height": 109
        },
        "id": "bfSCE8cB8noc",
        "outputId": "969eaf58-1be0-4ca5-a08a-e10dd1cd672c"
      },
      "source": [
        "from google.colab import files\n",
        "files.upload()"
      ],
      "execution_count": 7,
      "outputs": [
        {
          "output_type": "display_data",
          "data": {
            "text/html": [
              "\n",
              "     <input type=\"file\" id=\"files-683aa245-b899-4a70-bacf-4896c8116ddf\" name=\"files[]\" multiple disabled\n",
              "        style=\"border:none\" />\n",
              "     <output id=\"result-683aa245-b899-4a70-bacf-4896c8116ddf\">\n",
              "      Upload widget is only available when the cell has been executed in the\n",
              "      current browser session. Please rerun this cell to enable.\n",
              "      </output>\n",
              "      <script src=\"/nbextensions/google.colab/files.js\"></script> "
            ],
            "text/plain": [
              "<IPython.core.display.HTML object>"
            ]
          },
          "metadata": {
            "tags": []
          }
        },
        {
          "output_type": "stream",
          "text": [
            "Saving brazil_corr_data.csv to brazil_corr_data (1).csv\n"
          ],
          "name": "stdout"
        },
        {
          "output_type": "execute_result",
          "data": {
            "text/plain": [
              "{'brazil_corr_data.csv': b',item,n,corr\\n0,alfalfa meal and pellets,16,-0.29066621608216076\\n1,almonds,16,0.24894454150224696\\n2,animal fats and oils (excl. butter),16,0.8931981753698409\\n3,\"anise, badian, fennel, coriander\",16,0.3897220491767559\\n4,apple,16,0.2540651353231884\\n5,apples,16,0.6996797711927283\\n6,apricots,16,-0.062134889340466744\\n7,artichokes,16,-0.011296584257691126\\n8,asparagus,16,-0.011296584257691126\\n9,avocados,16,-0.5359565970470114\\n10,bananas,16,0.7162324287759084\\n11,barley,16,-0.6470576450130417\\n12,\"beans, dry\",16,-0.45471483117140415\\n13,\"beans, green\",16,0.8358059229707505\\n14,beef,16,-0.003631474484411433\\n15,beeswax,16,0.7651650550877263\\n16,beet pulp,16,-0.12353794635380995\\n17,beverages,16,-0.5250465143706664\\n18,\"bran, maize\",16,0.30758719454772077\\n19,\"brazil nuts, shelled\",16,0.47011044044743067\\n20,buckwheat,16,-0.5504513603650045\\n21,cabbages and other brassicas,16,-0.028059978316441688\\n22,\"cake, copra\",16,0.07111422013633652\\n23,\"cake, cottonseed\",16,0.676716388852637\\n24,\"cake, maize\",16,0.19918575684881193\\n25,canary seed,16,-0.15774985721565782\\n26,carrots and turnips,16,-0.21128899782402416\\n27,cashew,16,0.5836113556265915\\n28,cassava dried,16,0.6496505278244051\\n29,cauliflowers and broccoli,16,-0.03664417070706147\\n30,cereal,16,-0.5583483529001997\\n31,\"cheese, processed\",16,0.35385538020938634\\n32,cherries,16,-0.022763141273989346\\n33,chestnut,16,-0.10828234778683096\\n34,chicken,16,-0.8694199928298084\\n35,chocolate products nes,16,0.9070237601462292\\n36,cider etc,16,-0.6622021204752983\\n37,cigarettes,16,0.6083171352934398\\n38,\"cigars, cheroots\",16,-0.15422626859139146\\n39,cinnamon (cannella),16,0.8151242882204591\\n40,citrus,16,-0.4465348578858709\\n41,cloves,16,0.31044175744689656\\n42,cocoa,16,0.7307481659772417\\n43,coconuts,16,-0.3091537145184088\\n44,\"cocoons, unreelable & waste\",16,0.9415420028097105\\n45,coffee,16,-0.5613006312544264\\n46,coir,16,0.8712640155652657\\n47,copra,16,-0.1801754745749389\\n48,cotton,16,-0.4503258365601186\\n49,cream fresh,16,-0.8035060960724597\\n50,crude materials nes,16,0.05186917070298041\\n51,cucumbers and gherkins,16,-0.041814696077365536\\n52,dairy products,16,0.36414972249244504\\n53,dates,16,0.00720848119024163\\n54,\"dregs from brewing, distillation\",16,-0.1571842125761816\\n55,eggplants (aubergines),16,-0.07328970866455824\\n56,eggs,16,-0.41802866157798774\\n57,\"fat nes, prepared\",16,-0.00996108128228795\\n58,\"fat, pigs\",16,0.8171609174317134\\n59,fatty acids,16,-0.11838026334796316\\n60,fatty substance residues,16,0.21211287223483166\\n61,\"feed and meal, gluten\",16,-0.03029676321491619\\n62,\"feed, pulp of fruit\",16,0.7002764375761863\\n63,fibre crops nes,16,-0.8035816812588166\\n64,figs,16,-0.5226947485208974\\n65,flax,16,0.16901338916744083\\n66,flour,16,-0.5932256825071927\\n67,fodder and feeding stuff,16,0.051541239670570366\\n68,food prep nes,16,-0.12830626802206183\\n69,food wastes,16,-0.5982104515193661\\n70,forage products,16,-0.15923316764304643\\n71,\"fructose and syrup, other\",16,0.2925981582145609\\n72,fruit,16,-0.33985309231687144\\n73,garlic,16,0.46612091242784326\\n74,\"germ, maize\",16,0.26383210856057093\\n75,ginger,16,0.03516437262010366\\n76,glucose and dextrose,16,0.15256725564726584\\n77,grape,16,0.0985140138897101\\n78,grapefruit,16,0.2851745925534308\\n79,groundnuts,16,-0.3197938960917839\\n80,hazelnuts,16,0.6696901004097976\\n81,hides and skins,16,0.04508150060528725\\n82,hides nes,16,-0.418793444946738\\n83,\"honey, natural\",16,-0.29710211533378184\\n84,hops,16,0.09612098909176364\\n85,ice cream and edible ice,16,0.3212621687383726\\n86,infant food,16,0.7814137844002016\\n87,\"juice, fruit nes\",16,-0.5810659556498236\\n88,\"juice, pineapple\",16,0.9105501854463361\\n89,\"juice, pineapple, concentrated\",16,0.5838307926992325\\n90,\"juice, tomato\",16,0.07600920959143619\\n91,jute,16,-0.2596247090247896\\n92,kiwi fruit,16,0.7189719661394576\\n93,kola nuts,16,-0.2384376921000687\\n94,lactose,16,0.25208445001266183\\n95,lard,16,-0.5464887002075705\\n96,lemon,16,0.3226686969480359\\n97,lemons and limes,16,-0.7081980265744495\\n98,lentils,16,-0.07846561799617421\\n99,lettuce and chicory,16,-0.08126076230819952\\n100,linseed,16,0.3606661362033343\\n101,macaroni,16,-0.35268721894739735\\n102,maize,16,-0.5364229872293192\\n103,\"maize, green\",16,-0.1429179134828027\\n104,malt,16,0.26163058504272463\\n105,\"mangoes, mangosteens, guavas\",16,-0.31965408431993075\\n106,\"margarine, short\",16,0.1194992870338962\\n107,mat\\xef\\xbf\\xbd,16,-0.7622706142154662\\n108,\"meal, meat\",16,-0.3314883738801584\\n109,meat nes,16,0.17556815188297692\\n110,\"meat, dried nes\",16,-0.7944002489816085\\n111,\"meat, duck\",16,-0.6675148228379015\\n112,\"meat, goat\",16,0.23616485575791624\\n113,\"meat, horse\",16,0.9023073239219255\\n114,\"meat, pork\",16,-0.3579212993846344\\n115,\"meat, turkey\",16,0.6333945913774296\\n116,\"melons, other (inc.cantaloupes)\",16,-0.4576518395358613\\n117,milk,16,0.36754344958269464\\n118,millet,16,-0.016073659967112054\\n119,mixes and doughs,16,-0.1256836033752318\\n120,molasses,16,0.6256882194409774\\n121,mushrooms,16,0.4827888543090487\\n122,mustard seed,16,0.39628486689640235\\n123,\"nutmeg, mace and cardamoms\",16,0.5826714243690573\\n124,nuts,16,-0.17352703787777582\\n125,oats,16,-0.45647116023973316\\n126,offals,16,-0.7184712240559312\\n127,\"oil, boiled etc\",16,-0.15301587307733527\\n128,\"oil, castor beans\",16,0.19677316498362352\\n129,\"oil, coconut (copra)\",16,-0.2848548224314819\\n130,\"oil, cottonseed\",16,0.8724430182119746\\n131,\"oil, essential nes\",16,0.5641528281612544\\n132,\"oil, groundnut\",16,-0.6233412828468233\\n133,\"oil, linseed\",16,0.10172865486376156\\n134,\"oil, maize\",16,0.38528821889458253\\n135,\"oil, olive\",16,0.03067312834835893\\n136,\"oil, palm\",16,-0.48943024719789446\\n137,\"oil, rapeseed\",16,0.36100200299748425\\n138,\"oil, sesame\",16,-0.2971808070042062\\n139,\"oil, soybean\",16,0.7570469528933086\\n140,\"oil, vegetable origin nes\",16,-0.506697790586988\\n141,\"oils, fats of animal nes\",16,0.3120154359959826\\n142,oilseeds,16,-0.4648577222415704\\n143,olives,16,-0.011296584257691126\\n144,olives preserved,16,-0.7414034855330611\\n145,\"onions, shallots, green\",16,-0.08784180320979572\\n146,orange,16,-0.6126580456550079\\n147,oranges,16,0.7735679640566916\\n148,other food,16,-0.470525730689431\\n149,other meat,16,-0.7674634103280201\\n150,palm,16,-0.09283485498952686\\n151,papayas,16,0.20678743089978496\\n152,pastry,16,0.28764751574415703\\n153,peaches and nectarines,16,-0.1883003271771096\\n154,pears,16,-0.11678789338065751\\n155,peas,16,0.053291714856152986\\n156,pepper (piper spp.),16,0.06987177444783162\\n157,peppers,16,0.7351978115129586\\n158,persimmons,16,0.4824035920999166\\n159,pet food,16,0.3107752783932818\\n160,pig,16,0.042684259560851576\\n161,pineapples,16,0.6438907736602312\\n162,pistachios,16,-0.009744766968331391\\n163,plantains and others,16,-0.44858379804452314\\n164,plums and sloes,16,0.3442173560955401\\n165,plums dried (prunes),16,0.01749459149824027\\n166,potatoes,16,-0.3403135661862918\\n167,pulses,16,-0.40739835739121766\\n168,\"pumpkins, squash and gourds\",16,-0.1922059022062085\\n169,\"pyrethrum, extraction\",16,-0.13039881315863774\\n170,quinces,16,0.4874696967650438\\n171,raisins,16,0.44340771762243064\\n172,rapeseed,16,-0.12255242737884862\\n173,rice,16,-0.7140633753943223\\n174,roots,16,-0.16856161413056706\\n175,rubber,16,-0.48034320919468604\\n176,rye,16,0.28414592540897654\\n177,sesame seed,16,-0.06767739331162141\\n178,sheep,16,-0.055997089538537555\\n179,silk,16,0.7102156773260359\\n180,sorghum,16,0.4857332912837421\\n181,soya sauce,16,-0.6853859851315731\\n182,soybeans,16,-0.44616409576326355\\n183,spices nes,16,0.10315514076195001\\n184,spinach,16,-0.010855269667097768\\n185,\"starch, cassava\",16,0.14295061133347317\\n186,straw husks,16,0.7704963844944286\\n187,strawberries,16,0.6705868269597041\\n188,sugar,16,-0.7439246516530515\\n189,sunflower,16,0.7455321509551195\\n190,sweet corn,16,-0.3837573457669586\\n191,sweet potatoes,16,-0.22625748034784962\\n192,tallow,16,0.8665083295394527\\n193,\"tangerines, mandarins, clementines, satsumas\",16,0.9515877341529146\\n194,tea,16,0.6706962586108146\\n195,textile fibres,16,-0.4657016360688218\\n196,tobacco,16,0.3143745643834818\\n197,tomatoes,16,0.644246268303305\\n198,vanilla,16,0.7556788216581177\\n199,vegetable oil and fat,16,0.7487919449733481\\n200,vegetables,16,0.23581940579565452\\n201,vermouths & similar,16,0.48693510782003524\\n202,wafers,16,-0.5644038047482167\\n203,\"walnuts, shelled\",16,0.7129663882034502\\n204,\"walnuts, with shell\",16,0.28086048645304923\\n205,watermelons,16,-0.3462814781253003\\n206,\"waters,ice etc\",16,-0.04822574094706135\\n207,waxes vegetable,16,-0.2638654257958784\\n208,wheat,16,-0.20682301187823518\\n209,wine,16,-0.19044774376238346\\n210,wool,16,-0.8131845269138638\\n211,\"yoghurt, concentrated or not\",16,-0.1362956471153497\\n'}"
            ]
          },
          "metadata": {
            "tags": []
          },
          "execution_count": 7
        }
      ]
    },
    {
      "cell_type": "code",
      "metadata": {
        "colab": {
          "base_uri": "https://localhost:8080/",
          "height": 204
        },
        "id": "XwDLDoc78qJu",
        "outputId": "c1ca1d03-7682-40c6-ad16-88bc51b87611"
      },
      "source": [
        "df = pd.read_csv(\n",
        "  \"/content/brazil_corr_data (1).csv\",\n",
        "  index_col=0,\n",
        ")\n",
        "df.head()"
      ],
      "execution_count": 8,
      "outputs": [
        {
          "output_type": "execute_result",
          "data": {
            "text/html": [
              "<div>\n",
              "<style scoped>\n",
              "    .dataframe tbody tr th:only-of-type {\n",
              "        vertical-align: middle;\n",
              "    }\n",
              "\n",
              "    .dataframe tbody tr th {\n",
              "        vertical-align: top;\n",
              "    }\n",
              "\n",
              "    .dataframe thead th {\n",
              "        text-align: right;\n",
              "    }\n",
              "</style>\n",
              "<table border=\"1\" class=\"dataframe\">\n",
              "  <thead>\n",
              "    <tr style=\"text-align: right;\">\n",
              "      <th></th>\n",
              "      <th>item</th>\n",
              "      <th>n</th>\n",
              "      <th>corr</th>\n",
              "    </tr>\n",
              "  </thead>\n",
              "  <tbody>\n",
              "    <tr>\n",
              "      <th>0</th>\n",
              "      <td>alfalfa meal and pellets</td>\n",
              "      <td>16</td>\n",
              "      <td>-0.290666</td>\n",
              "    </tr>\n",
              "    <tr>\n",
              "      <th>1</th>\n",
              "      <td>almonds</td>\n",
              "      <td>16</td>\n",
              "      <td>0.248945</td>\n",
              "    </tr>\n",
              "    <tr>\n",
              "      <th>2</th>\n",
              "      <td>animal fats and oils (excl. butter)</td>\n",
              "      <td>16</td>\n",
              "      <td>0.893198</td>\n",
              "    </tr>\n",
              "    <tr>\n",
              "      <th>3</th>\n",
              "      <td>anise, badian, fennel, coriander</td>\n",
              "      <td>16</td>\n",
              "      <td>0.389722</td>\n",
              "    </tr>\n",
              "    <tr>\n",
              "      <th>4</th>\n",
              "      <td>apple</td>\n",
              "      <td>16</td>\n",
              "      <td>0.254065</td>\n",
              "    </tr>\n",
              "  </tbody>\n",
              "</table>\n",
              "</div>"
            ],
            "text/plain": [
              "                                  item   n      corr\n",
              "0             alfalfa meal and pellets  16 -0.290666\n",
              "1                              almonds  16  0.248945\n",
              "2  animal fats and oils (excl. butter)  16  0.893198\n",
              "3     anise, badian, fennel, coriander  16  0.389722\n",
              "4                                apple  16  0.254065"
            ]
          },
          "metadata": {
            "tags": []
          },
          "execution_count": 8
        }
      ]
    },
    {
      "cell_type": "code",
      "metadata": {
        "id": "-Y-7SHb0lH4d"
      },
      "source": [
        "for item in df['item'].values:\n",
        "  print(item)"
      ],
      "execution_count": null,
      "outputs": []
    },
    {
      "cell_type": "code",
      "metadata": {
        "colab": {
          "base_uri": "https://localhost:8080/",
          "height": 574
        },
        "id": "2Yx1xd0N8xUz",
        "outputId": "23e6f714-dea4-4f0f-de15-b667bf6ded8f"
      },
      "source": [
        "def plot_data(data):\n",
        "    x = alt.X('item:N', sort='-y')\n",
        "    y = alt.Y('corr:Q', title='correlation')\n",
        "    return alt.Chart(data).mark_bar().encode(\n",
        "        x=x, y=y, tooltip=['item', 'corr'],\n",
        "    ).properties(\n",
        "        title=(\n",
        "            'Correlation Between Tonnes Exported '\n",
        "            'and Total Deforested Area (km^2) Annually'\n",
        "        )\n",
        "    )\n",
        "\n",
        "plot_data(df)"
      ],
      "execution_count": 26,
      "outputs": [
        {
          "output_type": "execute_result",
          "data": {
            "text/plain": [
              "alt.Chart(...)"
            ],
            "text/html": [
              "\n",
              "<div id=\"altair-viz-692e4f72161c4db8ab04a4d88449bb66\"></div>\n",
              "<script type=\"text/javascript\">\n",
              "  (function(spec, embedOpt){\n",
              "    let outputDiv = document.currentScript.previousElementSibling;\n",
              "    if (outputDiv.id !== \"altair-viz-692e4f72161c4db8ab04a4d88449bb66\") {\n",
              "      outputDiv = document.getElementById(\"altair-viz-692e4f72161c4db8ab04a4d88449bb66\");\n",
              "    }\n",
              "    const paths = {\n",
              "      \"vega\": \"https://cdn.jsdelivr.net/npm//vega@5?noext\",\n",
              "      \"vega-lib\": \"https://cdn.jsdelivr.net/npm//vega-lib?noext\",\n",
              "      \"vega-lite\": \"https://cdn.jsdelivr.net/npm//vega-lite@4.8.1?noext\",\n",
              "      \"vega-embed\": \"https://cdn.jsdelivr.net/npm//vega-embed@6?noext\",\n",
              "    };\n",
              "\n",
              "    function loadScript(lib) {\n",
              "      return new Promise(function(resolve, reject) {\n",
              "        var s = document.createElement('script');\n",
              "        s.src = paths[lib];\n",
              "        s.async = true;\n",
              "        s.onload = () => resolve(paths[lib]);\n",
              "        s.onerror = () => reject(`Error loading script: ${paths[lib]}`);\n",
              "        document.getElementsByTagName(\"head\")[0].appendChild(s);\n",
              "      });\n",
              "    }\n",
              "\n",
              "    function showError(err) {\n",
              "      outputDiv.innerHTML = `<div class=\"error\" style=\"color:red;\">${err}</div>`;\n",
              "      throw err;\n",
              "    }\n",
              "\n",
              "    function displayChart(vegaEmbed) {\n",
              "      vegaEmbed(outputDiv, spec, embedOpt)\n",
              "        .catch(err => showError(`Javascript Error: ${err.message}<br>This usually means there's a typo in your chart specification. See the javascript console for the full traceback.`));\n",
              "    }\n",
              "\n",
              "    if(typeof define === \"function\" && define.amd) {\n",
              "      requirejs.config({paths});\n",
              "      require([\"vega-embed\"], displayChart, err => showError(`Error loading script: ${err.message}`));\n",
              "    } else if (typeof vegaEmbed === \"function\") {\n",
              "      displayChart(vegaEmbed);\n",
              "    } else {\n",
              "      loadScript(\"vega\")\n",
              "        .then(() => loadScript(\"vega-lite\"))\n",
              "        .then(() => loadScript(\"vega-embed\"))\n",
              "        .catch(showError)\n",
              "        .then(() => displayChart(vegaEmbed));\n",
              "    }\n",
              "  })({\"config\": {\"view\": {\"continuousWidth\": 400, \"continuousHeight\": 300}}, \"data\": {\"name\": \"data-4803997dd638de27f2e634f27efb444e\"}, \"mark\": \"bar\", \"encoding\": {\"tooltip\": [{\"type\": \"nominal\", \"field\": \"item\"}, {\"type\": \"quantitative\", \"field\": \"corr\"}], \"x\": {\"type\": \"nominal\", \"field\": \"item\", \"sort\": \"-y\"}, \"y\": {\"type\": \"quantitative\", \"field\": \"corr\", \"title\": \"correlation\"}}, \"title\": \"Correlation Between Tonnes Exported and Total Deforested Area (km^2) Annually\", \"$schema\": \"https://vega.github.io/schema/vega-lite/v4.8.1.json\", \"datasets\": {\"data-4803997dd638de27f2e634f27efb444e\": [{\"item\": \"alfalfa meal and pellets\", \"n\": 16, \"corr\": -0.2906662160821608}, {\"item\": \"almonds\", \"n\": 16, \"corr\": 0.24894454150224696}, {\"item\": \"animal fats and oils (excl. butter)\", \"n\": 16, \"corr\": 0.8931981753698409}, {\"item\": \"anise, badian, fennel, coriander\", \"n\": 16, \"corr\": 0.3897220491767559}, {\"item\": \"apple\", \"n\": 16, \"corr\": 0.2540651353231884}, {\"item\": \"apples\", \"n\": 16, \"corr\": 0.6996797711927283}, {\"item\": \"apricots\", \"n\": 16, \"corr\": -0.06213488934046674}, {\"item\": \"artichokes\", \"n\": 16, \"corr\": -0.011296584257691127}, {\"item\": \"asparagus\", \"n\": 16, \"corr\": -0.011296584257691127}, {\"item\": \"avocados\", \"n\": 16, \"corr\": -0.5359565970470114}, {\"item\": \"bananas\", \"n\": 16, \"corr\": 0.7162324287759084}, {\"item\": \"barley\", \"n\": 16, \"corr\": -0.6470576450130417}, {\"item\": \"beans, dry\", \"n\": 16, \"corr\": -0.4547148311714042}, {\"item\": \"beans, green\", \"n\": 16, \"corr\": 0.8358059229707505}, {\"item\": \"beef\", \"n\": 16, \"corr\": -0.003631474484411433}, {\"item\": \"beeswax\", \"n\": 16, \"corr\": 0.7651650550877263}, {\"item\": \"beet pulp\", \"n\": 16, \"corr\": -0.12353794635380995}, {\"item\": \"beverages\", \"n\": 16, \"corr\": -0.5250465143706664}, {\"item\": \"bran, maize\", \"n\": 16, \"corr\": 0.3075871945477208}, {\"item\": \"brazil nuts, shelled\", \"n\": 16, \"corr\": 0.4701104404474306}, {\"item\": \"buckwheat\", \"n\": 16, \"corr\": -0.5504513603650045}, {\"item\": \"cabbages and other brassicas\", \"n\": 16, \"corr\": -0.028059978316441688}, {\"item\": \"cake, copra\", \"n\": 16, \"corr\": 0.07111422013633653}, {\"item\": \"cake, cottonseed\", \"n\": 16, \"corr\": 0.6767163888526371}, {\"item\": \"cake, maize\", \"n\": 16, \"corr\": 0.19918575684881196}, {\"item\": \"canary seed\", \"n\": 16, \"corr\": -0.15774985721565782}, {\"item\": \"carrots and turnips\", \"n\": 16, \"corr\": -0.21128899782402416}, {\"item\": \"cashew\", \"n\": 16, \"corr\": 0.5836113556265915}, {\"item\": \"cassava dried\", \"n\": 16, \"corr\": 0.6496505278244051}, {\"item\": \"cauliflowers and broccoli\", \"n\": 16, \"corr\": -0.03664417070706147}, {\"item\": \"cereal\", \"n\": 16, \"corr\": -0.5583483529001997}, {\"item\": \"cheese, processed\", \"n\": 16, \"corr\": 0.35385538020938634}, {\"item\": \"cherries\", \"n\": 16, \"corr\": -0.022763141273989342}, {\"item\": \"chestnut\", \"n\": 16, \"corr\": -0.10828234778683096}, {\"item\": \"chicken\", \"n\": 16, \"corr\": -0.8694199928298084}, {\"item\": \"chocolate products nes\", \"n\": 16, \"corr\": 0.9070237601462292}, {\"item\": \"cider etc\", \"n\": 16, \"corr\": -0.6622021204752983}, {\"item\": \"cigarettes\", \"n\": 16, \"corr\": 0.6083171352934398}, {\"item\": \"cigars, cheroots\", \"n\": 16, \"corr\": -0.15422626859139146}, {\"item\": \"cinnamon (cannella)\", \"n\": 16, \"corr\": 0.8151242882204591}, {\"item\": \"citrus\", \"n\": 16, \"corr\": -0.4465348578858709}, {\"item\": \"cloves\", \"n\": 16, \"corr\": 0.31044175744689656}, {\"item\": \"cocoa\", \"n\": 16, \"corr\": 0.7307481659772417}, {\"item\": \"coconuts\", \"n\": 16, \"corr\": -0.3091537145184088}, {\"item\": \"cocoons, unreelable & waste\", \"n\": 16, \"corr\": 0.9415420028097105}, {\"item\": \"coffee\", \"n\": 16, \"corr\": -0.5613006312544264}, {\"item\": \"coir\", \"n\": 16, \"corr\": 0.8712640155652657}, {\"item\": \"copra\", \"n\": 16, \"corr\": -0.1801754745749389}, {\"item\": \"cotton\", \"n\": 16, \"corr\": -0.4503258365601186}, {\"item\": \"cream fresh\", \"n\": 16, \"corr\": -0.8035060960724597}, {\"item\": \"crude materials nes\", \"n\": 16, \"corr\": 0.05186917070298041}, {\"item\": \"cucumbers and gherkins\", \"n\": 16, \"corr\": -0.041814696077365536}, {\"item\": \"dairy products\", \"n\": 16, \"corr\": 0.3641497224924449}, {\"item\": \"dates\", \"n\": 16, \"corr\": 0.00720848119024163}, {\"item\": \"dregs from brewing, distillation\", \"n\": 16, \"corr\": -0.1571842125761816}, {\"item\": \"eggplants (aubergines)\", \"n\": 16, \"corr\": -0.07328970866455824}, {\"item\": \"eggs\", \"n\": 16, \"corr\": -0.4180286615779877}, {\"item\": \"fat nes, prepared\", \"n\": 16, \"corr\": -0.00996108128228795}, {\"item\": \"fat, pigs\", \"n\": 16, \"corr\": 0.8171609174317134}, {\"item\": \"fatty acids\", \"n\": 16, \"corr\": -0.11838026334796314}, {\"item\": \"fatty substance residues\", \"n\": 16, \"corr\": 0.21211287223483166}, {\"item\": \"feed and meal, gluten\", \"n\": 16, \"corr\": -0.030296763214916186}, {\"item\": \"feed, pulp of fruit\", \"n\": 16, \"corr\": 0.7002764375761863}, {\"item\": \"fibre crops nes\", \"n\": 16, \"corr\": -0.8035816812588166}, {\"item\": \"figs\", \"n\": 16, \"corr\": -0.5226947485208974}, {\"item\": \"flax\", \"n\": 16, \"corr\": 0.16901338916744085}, {\"item\": \"flour\", \"n\": 16, \"corr\": -0.5932256825071927}, {\"item\": \"fodder and feeding stuff\", \"n\": 16, \"corr\": 0.051541239670570366}, {\"item\": \"food prep nes\", \"n\": 16, \"corr\": -0.12830626802206185}, {\"item\": \"food wastes\", \"n\": 16, \"corr\": -0.5982104515193661}, {\"item\": \"forage products\", \"n\": 16, \"corr\": -0.15923316764304646}, {\"item\": \"fructose and syrup, other\", \"n\": 16, \"corr\": 0.2925981582145609}, {\"item\": \"fruit\", \"n\": 16, \"corr\": -0.33985309231687144}, {\"item\": \"garlic\", \"n\": 16, \"corr\": 0.4661209124278433}, {\"item\": \"germ, maize\", \"n\": 16, \"corr\": 0.2638321085605709}, {\"item\": \"ginger\", \"n\": 16, \"corr\": 0.03516437262010366}, {\"item\": \"glucose and dextrose\", \"n\": 16, \"corr\": 0.15256725564726584}, {\"item\": \"grape\", \"n\": 16, \"corr\": 0.0985140138897101}, {\"item\": \"grapefruit\", \"n\": 16, \"corr\": 0.2851745925534308}, {\"item\": \"groundnuts\", \"n\": 16, \"corr\": -0.3197938960917839}, {\"item\": \"hazelnuts\", \"n\": 16, \"corr\": 0.6696901004097976}, {\"item\": \"hides and skins\", \"n\": 16, \"corr\": 0.04508150060528725}, {\"item\": \"hides nes\", \"n\": 16, \"corr\": -0.418793444946738}, {\"item\": \"honey, natural\", \"n\": 16, \"corr\": -0.29710211533378184}, {\"item\": \"hops\", \"n\": 16, \"corr\": 0.09612098909176364}, {\"item\": \"ice cream and edible ice\", \"n\": 16, \"corr\": 0.3212621687383726}, {\"item\": \"infant food\", \"n\": 16, \"corr\": 0.7814137844002016}, {\"item\": \"juice, fruit nes\", \"n\": 16, \"corr\": -0.5810659556498236}, {\"item\": \"juice, pineapple\", \"n\": 16, \"corr\": 0.910550185446336}, {\"item\": \"juice, pineapple, concentrated\", \"n\": 16, \"corr\": 0.5838307926992325}, {\"item\": \"juice, tomato\", \"n\": 16, \"corr\": 0.07600920959143619}, {\"item\": \"jute\", \"n\": 16, \"corr\": -0.2596247090247896}, {\"item\": \"kiwi fruit\", \"n\": 16, \"corr\": 0.7189719661394576}, {\"item\": \"kola nuts\", \"n\": 16, \"corr\": -0.2384376921000687}, {\"item\": \"lactose\", \"n\": 16, \"corr\": 0.25208445001266183}, {\"item\": \"lard\", \"n\": 16, \"corr\": -0.5464887002075705}, {\"item\": \"lemon\", \"n\": 16, \"corr\": 0.3226686969480359}, {\"item\": \"lemons and limes\", \"n\": 16, \"corr\": -0.7081980265744495}, {\"item\": \"lentils\", \"n\": 16, \"corr\": -0.07846561799617421}, {\"item\": \"lettuce and chicory\", \"n\": 16, \"corr\": -0.08126076230819952}, {\"item\": \"linseed\", \"n\": 16, \"corr\": 0.3606661362033343}, {\"item\": \"macaroni\", \"n\": 16, \"corr\": -0.3526872189473973}, {\"item\": \"maize\", \"n\": 16, \"corr\": -0.5364229872293192}, {\"item\": \"maize, green\", \"n\": 16, \"corr\": -0.1429179134828027}, {\"item\": \"malt\", \"n\": 16, \"corr\": 0.26163058504272463}, {\"item\": \"mangoes, mangosteens, guavas\", \"n\": 16, \"corr\": -0.31965408431993075}, {\"item\": \"margarine, short\", \"n\": 16, \"corr\": 0.1194992870338962}, {\"item\": \"mat\\ufffd\", \"n\": 16, \"corr\": -0.7622706142154662}, {\"item\": \"meal, meat\", \"n\": 16, \"corr\": -0.3314883738801584}, {\"item\": \"meat nes\", \"n\": 16, \"corr\": 0.17556815188297692}, {\"item\": \"meat, dried nes\", \"n\": 16, \"corr\": -0.7944002489816085}, {\"item\": \"meat, duck\", \"n\": 16, \"corr\": -0.6675148228379015}, {\"item\": \"meat, goat\", \"n\": 16, \"corr\": 0.23616485575791624}, {\"item\": \"meat, horse\", \"n\": 16, \"corr\": 0.9023073239219256}, {\"item\": \"meat, pork\", \"n\": 16, \"corr\": -0.3579212993846344}, {\"item\": \"meat, turkey\", \"n\": 16, \"corr\": 0.6333945913774296}, {\"item\": \"melons, other (inc.cantaloupes)\", \"n\": 16, \"corr\": -0.4576518395358613}, {\"item\": \"milk\", \"n\": 16, \"corr\": 0.3675434495826945}, {\"item\": \"millet\", \"n\": 16, \"corr\": -0.016073659967112054}, {\"item\": \"mixes and doughs\", \"n\": 16, \"corr\": -0.1256836033752318}, {\"item\": \"molasses\", \"n\": 16, \"corr\": 0.6256882194409774}, {\"item\": \"mushrooms\", \"n\": 16, \"corr\": 0.4827888543090487}, {\"item\": \"mustard seed\", \"n\": 16, \"corr\": 0.3962848668964024}, {\"item\": \"nutmeg, mace and cardamoms\", \"n\": 16, \"corr\": 0.5826714243690573}, {\"item\": \"nuts\", \"n\": 16, \"corr\": -0.17352703787777582}, {\"item\": \"oats\", \"n\": 16, \"corr\": -0.4564711602397332}, {\"item\": \"offals\", \"n\": 16, \"corr\": -0.7184712240559312}, {\"item\": \"oil, boiled etc\", \"n\": 16, \"corr\": -0.15301587307733527}, {\"item\": \"oil, castor beans\", \"n\": 16, \"corr\": 0.19677316498362352}, {\"item\": \"oil, coconut (copra)\", \"n\": 16, \"corr\": -0.2848548224314819}, {\"item\": \"oil, cottonseed\", \"n\": 16, \"corr\": 0.8724430182119746}, {\"item\": \"oil, essential nes\", \"n\": 16, \"corr\": 0.5641528281612544}, {\"item\": \"oil, groundnut\", \"n\": 16, \"corr\": -0.6233412828468233}, {\"item\": \"oil, linseed\", \"n\": 16, \"corr\": 0.10172865486376156}, {\"item\": \"oil, maize\", \"n\": 16, \"corr\": 0.3852882188945825}, {\"item\": \"oil, olive\", \"n\": 16, \"corr\": 0.030673128348358933}, {\"item\": \"oil, palm\", \"n\": 16, \"corr\": -0.4894302471978945}, {\"item\": \"oil, rapeseed\", \"n\": 16, \"corr\": 0.36100200299748425}, {\"item\": \"oil, sesame\", \"n\": 16, \"corr\": -0.2971808070042062}, {\"item\": \"oil, soybean\", \"n\": 16, \"corr\": 0.7570469528933086}, {\"item\": \"oil, vegetable origin nes\", \"n\": 16, \"corr\": -0.5066977905869879}, {\"item\": \"oils, fats of animal nes\", \"n\": 16, \"corr\": 0.3120154359959826}, {\"item\": \"oilseeds\", \"n\": 16, \"corr\": -0.4648577222415704}, {\"item\": \"olives\", \"n\": 16, \"corr\": -0.011296584257691127}, {\"item\": \"olives preserved\", \"n\": 16, \"corr\": -0.7414034855330611}, {\"item\": \"onions, shallots, green\", \"n\": 16, \"corr\": -0.08784180320979572}, {\"item\": \"orange\", \"n\": 16, \"corr\": -0.6126580456550079}, {\"item\": \"oranges\", \"n\": 16, \"corr\": 0.7735679640566916}, {\"item\": \"other food\", \"n\": 16, \"corr\": -0.47052573068943104}, {\"item\": \"other meat\", \"n\": 16, \"corr\": -0.7674634103280201}, {\"item\": \"palm\", \"n\": 16, \"corr\": -0.09283485498952686}, {\"item\": \"papayas\", \"n\": 16, \"corr\": 0.20678743089978496}, {\"item\": \"pastry\", \"n\": 16, \"corr\": 0.28764751574415703}, {\"item\": \"peaches and nectarines\", \"n\": 16, \"corr\": -0.1883003271771096}, {\"item\": \"pears\", \"n\": 16, \"corr\": -0.11678789338065752}, {\"item\": \"peas\", \"n\": 16, \"corr\": 0.05329171485615298}, {\"item\": \"pepper (piper spp.)\", \"n\": 16, \"corr\": 0.06987177444783163}, {\"item\": \"peppers\", \"n\": 16, \"corr\": 0.7351978115129586}, {\"item\": \"persimmons\", \"n\": 16, \"corr\": 0.4824035920999166}, {\"item\": \"pet food\", \"n\": 16, \"corr\": 0.3107752783932818}, {\"item\": \"pig\", \"n\": 16, \"corr\": 0.042684259560851576}, {\"item\": \"pineapples\", \"n\": 16, \"corr\": 0.6438907736602312}, {\"item\": \"pistachios\", \"n\": 16, \"corr\": -0.009744766968331393}, {\"item\": \"plantains and others\", \"n\": 16, \"corr\": -0.4485837980445232}, {\"item\": \"plums and sloes\", \"n\": 16, \"corr\": 0.3442173560955401}, {\"item\": \"plums dried (prunes)\", \"n\": 16, \"corr\": 0.01749459149824027}, {\"item\": \"potatoes\", \"n\": 16, \"corr\": -0.3403135661862918}, {\"item\": \"pulses\", \"n\": 16, \"corr\": -0.4073983573912177}, {\"item\": \"pumpkins, squash and gourds\", \"n\": 16, \"corr\": -0.1922059022062085}, {\"item\": \"pyrethrum, extraction\", \"n\": 16, \"corr\": -0.13039881315863774}, {\"item\": \"quinces\", \"n\": 16, \"corr\": 0.4874696967650438}, {\"item\": \"raisins\", \"n\": 16, \"corr\": 0.44340771762243053}, {\"item\": \"rapeseed\", \"n\": 16, \"corr\": -0.12255242737884862}, {\"item\": \"rice\", \"n\": 16, \"corr\": -0.7140633753943223}, {\"item\": \"roots\", \"n\": 16, \"corr\": -0.16856161413056706}, {\"item\": \"rubber\", \"n\": 16, \"corr\": -0.4803432091946861}, {\"item\": \"rye\", \"n\": 16, \"corr\": 0.2841459254089765}, {\"item\": \"sesame seed\", \"n\": 16, \"corr\": -0.06767739331162141}, {\"item\": \"sheep\", \"n\": 16, \"corr\": -0.05599708953853756}, {\"item\": \"silk\", \"n\": 16, \"corr\": 0.7102156773260359}, {\"item\": \"sorghum\", \"n\": 16, \"corr\": 0.4857332912837421}, {\"item\": \"soya sauce\", \"n\": 16, \"corr\": -0.6853859851315731}, {\"item\": \"soybeans\", \"n\": 16, \"corr\": -0.4461640957632636}, {\"item\": \"spices nes\", \"n\": 16, \"corr\": 0.10315514076195}, {\"item\": \"spinach\", \"n\": 16, \"corr\": -0.010855269667097768}, {\"item\": \"starch, cassava\", \"n\": 16, \"corr\": 0.14295061133347314}, {\"item\": \"straw husks\", \"n\": 16, \"corr\": 0.7704963844944286}, {\"item\": \"strawberries\", \"n\": 16, \"corr\": 0.6705868269597041}, {\"item\": \"sugar\", \"n\": 16, \"corr\": -0.7439246516530515}, {\"item\": \"sunflower\", \"n\": 16, \"corr\": 0.7455321509551195}, {\"item\": \"sweet corn\", \"n\": 16, \"corr\": -0.3837573457669586}, {\"item\": \"sweet potatoes\", \"n\": 16, \"corr\": -0.2262574803478496}, {\"item\": \"tallow\", \"n\": 16, \"corr\": 0.8665083295394527}, {\"item\": \"tangerines, mandarins, clementines, satsumas\", \"n\": 16, \"corr\": 0.9515877341529146}, {\"item\": \"tea\", \"n\": 16, \"corr\": 0.6706962586108146}, {\"item\": \"textile fibres\", \"n\": 16, \"corr\": -0.4657016360688218}, {\"item\": \"tobacco\", \"n\": 16, \"corr\": 0.3143745643834818}, {\"item\": \"tomatoes\", \"n\": 16, \"corr\": 0.6442462683033051}, {\"item\": \"vanilla\", \"n\": 16, \"corr\": 0.7556788216581177}, {\"item\": \"vegetable oil and fat\", \"n\": 16, \"corr\": 0.7487919449733481}, {\"item\": \"vegetables\", \"n\": 16, \"corr\": 0.2358194057956545}, {\"item\": \"vermouths & similar\", \"n\": 16, \"corr\": 0.4869351078200352}, {\"item\": \"wafers\", \"n\": 16, \"corr\": -0.5644038047482167}, {\"item\": \"walnuts, shelled\", \"n\": 16, \"corr\": 0.7129663882034502}, {\"item\": \"walnuts, with shell\", \"n\": 16, \"corr\": 0.28086048645304923}, {\"item\": \"watermelons\", \"n\": 16, \"corr\": -0.3462814781253003}, {\"item\": \"waters,ice etc\", \"n\": 16, \"corr\": -0.04822574094706135}, {\"item\": \"waxes vegetable\", \"n\": 16, \"corr\": -0.2638654257958784}, {\"item\": \"wheat\", \"n\": 16, \"corr\": -0.2068230118782352}, {\"item\": \"wine\", \"n\": 16, \"corr\": -0.19044774376238344}, {\"item\": \"wool\", \"n\": 16, \"corr\": -0.8131845269138638}, {\"item\": \"yoghurt, concentrated or not\", \"n\": 16, \"corr\": -0.1362956471153497}]}}, {\"mode\": \"vega-lite\"});\n",
              "</script>"
            ]
          },
          "metadata": {
            "tags": []
          },
          "execution_count": 26
        }
      ]
    },
    {
      "cell_type": "code",
      "metadata": {
        "id": "rgztCCnuweQi",
        "colab": {
          "base_uri": "https://localhost:8080/",
          "height": 424
        },
        "outputId": "18e423ed-bd22-482f-ff36-6aac8bd466a3"
      },
      "source": [
        "idx = (df['item'] == 'beef')\n",
        "for item in (\n",
        "    'rice', 'vegetables', 'fruit', 'nuts',\n",
        "):\n",
        "  idx |= (df['item'] == item)\n",
        "  \n",
        "plot_data(df[idx])"
      ],
      "execution_count": 28,
      "outputs": [
        {
          "output_type": "execute_result",
          "data": {
            "text/plain": [
              "alt.Chart(...)"
            ],
            "text/html": [
              "\n",
              "<div id=\"altair-viz-cdacde052ba047ceb2361312cb3b53fc\"></div>\n",
              "<script type=\"text/javascript\">\n",
              "  (function(spec, embedOpt){\n",
              "    let outputDiv = document.currentScript.previousElementSibling;\n",
              "    if (outputDiv.id !== \"altair-viz-cdacde052ba047ceb2361312cb3b53fc\") {\n",
              "      outputDiv = document.getElementById(\"altair-viz-cdacde052ba047ceb2361312cb3b53fc\");\n",
              "    }\n",
              "    const paths = {\n",
              "      \"vega\": \"https://cdn.jsdelivr.net/npm//vega@5?noext\",\n",
              "      \"vega-lib\": \"https://cdn.jsdelivr.net/npm//vega-lib?noext\",\n",
              "      \"vega-lite\": \"https://cdn.jsdelivr.net/npm//vega-lite@4.8.1?noext\",\n",
              "      \"vega-embed\": \"https://cdn.jsdelivr.net/npm//vega-embed@6?noext\",\n",
              "    };\n",
              "\n",
              "    function loadScript(lib) {\n",
              "      return new Promise(function(resolve, reject) {\n",
              "        var s = document.createElement('script');\n",
              "        s.src = paths[lib];\n",
              "        s.async = true;\n",
              "        s.onload = () => resolve(paths[lib]);\n",
              "        s.onerror = () => reject(`Error loading script: ${paths[lib]}`);\n",
              "        document.getElementsByTagName(\"head\")[0].appendChild(s);\n",
              "      });\n",
              "    }\n",
              "\n",
              "    function showError(err) {\n",
              "      outputDiv.innerHTML = `<div class=\"error\" style=\"color:red;\">${err}</div>`;\n",
              "      throw err;\n",
              "    }\n",
              "\n",
              "    function displayChart(vegaEmbed) {\n",
              "      vegaEmbed(outputDiv, spec, embedOpt)\n",
              "        .catch(err => showError(`Javascript Error: ${err.message}<br>This usually means there's a typo in your chart specification. See the javascript console for the full traceback.`));\n",
              "    }\n",
              "\n",
              "    if(typeof define === \"function\" && define.amd) {\n",
              "      requirejs.config({paths});\n",
              "      require([\"vega-embed\"], displayChart, err => showError(`Error loading script: ${err.message}`));\n",
              "    } else if (typeof vegaEmbed === \"function\") {\n",
              "      displayChart(vegaEmbed);\n",
              "    } else {\n",
              "      loadScript(\"vega\")\n",
              "        .then(() => loadScript(\"vega-lite\"))\n",
              "        .then(() => loadScript(\"vega-embed\"))\n",
              "        .catch(showError)\n",
              "        .then(() => displayChart(vegaEmbed));\n",
              "    }\n",
              "  })({\"config\": {\"view\": {\"continuousWidth\": 400, \"continuousHeight\": 300}}, \"data\": {\"name\": \"data-89b86e0db18dcc3cb1c6bf491d948683\"}, \"mark\": \"bar\", \"encoding\": {\"tooltip\": [{\"type\": \"nominal\", \"field\": \"item\"}, {\"type\": \"quantitative\", \"field\": \"corr\"}], \"x\": {\"type\": \"nominal\", \"field\": \"item\", \"sort\": \"-y\"}, \"y\": {\"type\": \"quantitative\", \"field\": \"corr\", \"title\": \"correlation\"}}, \"title\": \"Correlation Between Tonnes Exported and Total Deforested Area (km^2) Annually\", \"$schema\": \"https://vega.github.io/schema/vega-lite/v4.8.1.json\", \"datasets\": {\"data-89b86e0db18dcc3cb1c6bf491d948683\": [{\"item\": \"beef\", \"n\": 16, \"corr\": -0.003631474484411433}, {\"item\": \"fruit\", \"n\": 16, \"corr\": -0.33985309231687144}, {\"item\": \"nuts\", \"n\": 16, \"corr\": -0.17352703787777582}, {\"item\": \"rice\", \"n\": 16, \"corr\": -0.7140633753943223}, {\"item\": \"vegetables\", \"n\": 16, \"corr\": 0.2358194057956545}]}}, {\"mode\": \"vega-lite\"});\n",
              "</script>"
            ]
          },
          "metadata": {
            "tags": []
          },
          "execution_count": 28
        }
      ]
    }
  ]
}